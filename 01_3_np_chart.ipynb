{
  "nbformat": 4,
  "nbformat_minor": 0,
  "metadata": {
    "colab": {
      "name": "01-3-np chart.ipynb",
      "provenance": [],
      "collapsed_sections": []
    },
    "kernelspec": {
      "name": "python3",
      "display_name": "Python 3"
    },
    "language_info": {
      "name": "python"
    },
    "gpuClass": "standard"
  },
  "cells": [
    {
      "cell_type": "code",
      "execution_count": 77,
      "metadata": {
        "id": "T22agGjK8GzU"
      },
      "outputs": [],
      "source": [
        "# 필요한 package 불러오기\n",
        "import numpy as np\n",
        "import pandas as pd\n",
        "\n",
        "%matplotlib inline\n",
        "import matplotlib.pyplot as plt\n",
        "import matplotlib as mpl\n",
        "import matplotlib.ticker as mtick\n",
        "import matplotlib.axis as ax\n",
        "import statistics"
      ]
    },
    {
      "cell_type": "markdown",
      "source": [
        "## (1) Example Data 활용하여 \"np chart\" 구축"
      ],
      "metadata": {
        "id": "zKAFJqIDMb7M"
      }
    },
    {
      "cell_type": "code",
      "source": [
        "!git clone https://github.com/yun-seon/DX-Training-Hyundai-0707.git"
      ],
      "metadata": {
        "colab": {
          "base_uri": "https://localhost:8080/"
        },
        "id": "pPj67TAek9O7",
        "outputId": "9dd254fd-c7c4-4003-9732-ddcc1d027d05"
      },
      "execution_count": 78,
      "outputs": [
        {
          "output_type": "stream",
          "name": "stdout",
          "text": [
            "fatal: destination path 'DX-Training-Hyundai-0707' already exists and is not an empty directory.\n"
          ]
        }
      ]
    },
    {
      "cell_type": "code",
      "source": [
        "# data 불러오기\n",
        "\n",
        "ex = pd.read_csv(\"/content/DX-Training-Hyundai-0707/Data/example_p_chart.csv\")\n",
        "data = ex   \n",
        "data.head()"
      ],
      "metadata": {
        "colab": {
          "base_uri": "https://localhost:8080/",
          "height": 206
        },
        "id": "SpOkMRvh9B5e",
        "outputId": "4336df13-cddf-4a8c-91e4-62fa98e0af6a"
      },
      "execution_count": 79,
      "outputs": [
        {
          "output_type": "execute_result",
          "data": {
            "text/plain": [
              "   sample  value\n",
              "0      50     12\n",
              "1      50     15\n",
              "2      50      8\n",
              "3      50     10\n",
              "4      50      4"
            ],
            "text/html": [
              "\n",
              "  <div id=\"df-aba962ff-d90a-4482-986a-1d0ef839a9a2\">\n",
              "    <div class=\"colab-df-container\">\n",
              "      <div>\n",
              "<style scoped>\n",
              "    .dataframe tbody tr th:only-of-type {\n",
              "        vertical-align: middle;\n",
              "    }\n",
              "\n",
              "    .dataframe tbody tr th {\n",
              "        vertical-align: top;\n",
              "    }\n",
              "\n",
              "    .dataframe thead th {\n",
              "        text-align: right;\n",
              "    }\n",
              "</style>\n",
              "<table border=\"1\" class=\"dataframe\">\n",
              "  <thead>\n",
              "    <tr style=\"text-align: right;\">\n",
              "      <th></th>\n",
              "      <th>sample</th>\n",
              "      <th>value</th>\n",
              "    </tr>\n",
              "  </thead>\n",
              "  <tbody>\n",
              "    <tr>\n",
              "      <th>0</th>\n",
              "      <td>50</td>\n",
              "      <td>12</td>\n",
              "    </tr>\n",
              "    <tr>\n",
              "      <th>1</th>\n",
              "      <td>50</td>\n",
              "      <td>15</td>\n",
              "    </tr>\n",
              "    <tr>\n",
              "      <th>2</th>\n",
              "      <td>50</td>\n",
              "      <td>8</td>\n",
              "    </tr>\n",
              "    <tr>\n",
              "      <th>3</th>\n",
              "      <td>50</td>\n",
              "      <td>10</td>\n",
              "    </tr>\n",
              "    <tr>\n",
              "      <th>4</th>\n",
              "      <td>50</td>\n",
              "      <td>4</td>\n",
              "    </tr>\n",
              "  </tbody>\n",
              "</table>\n",
              "</div>\n",
              "      <button class=\"colab-df-convert\" onclick=\"convertToInteractive('df-aba962ff-d90a-4482-986a-1d0ef839a9a2')\"\n",
              "              title=\"Convert this dataframe to an interactive table.\"\n",
              "              style=\"display:none;\">\n",
              "        \n",
              "  <svg xmlns=\"http://www.w3.org/2000/svg\" height=\"24px\"viewBox=\"0 0 24 24\"\n",
              "       width=\"24px\">\n",
              "    <path d=\"M0 0h24v24H0V0z\" fill=\"none\"/>\n",
              "    <path d=\"M18.56 5.44l.94 2.06.94-2.06 2.06-.94-2.06-.94-.94-2.06-.94 2.06-2.06.94zm-11 1L8.5 8.5l.94-2.06 2.06-.94-2.06-.94L8.5 2.5l-.94 2.06-2.06.94zm10 10l.94 2.06.94-2.06 2.06-.94-2.06-.94-.94-2.06-.94 2.06-2.06.94z\"/><path d=\"M17.41 7.96l-1.37-1.37c-.4-.4-.92-.59-1.43-.59-.52 0-1.04.2-1.43.59L10.3 9.45l-7.72 7.72c-.78.78-.78 2.05 0 2.83L4 21.41c.39.39.9.59 1.41.59.51 0 1.02-.2 1.41-.59l7.78-7.78 2.81-2.81c.8-.78.8-2.07 0-2.86zM5.41 20L4 18.59l7.72-7.72 1.47 1.35L5.41 20z\"/>\n",
              "  </svg>\n",
              "      </button>\n",
              "      \n",
              "  <style>\n",
              "    .colab-df-container {\n",
              "      display:flex;\n",
              "      flex-wrap:wrap;\n",
              "      gap: 12px;\n",
              "    }\n",
              "\n",
              "    .colab-df-convert {\n",
              "      background-color: #E8F0FE;\n",
              "      border: none;\n",
              "      border-radius: 50%;\n",
              "      cursor: pointer;\n",
              "      display: none;\n",
              "      fill: #1967D2;\n",
              "      height: 32px;\n",
              "      padding: 0 0 0 0;\n",
              "      width: 32px;\n",
              "    }\n",
              "\n",
              "    .colab-df-convert:hover {\n",
              "      background-color: #E2EBFA;\n",
              "      box-shadow: 0px 1px 2px rgba(60, 64, 67, 0.3), 0px 1px 3px 1px rgba(60, 64, 67, 0.15);\n",
              "      fill: #174EA6;\n",
              "    }\n",
              "\n",
              "    [theme=dark] .colab-df-convert {\n",
              "      background-color: #3B4455;\n",
              "      fill: #D2E3FC;\n",
              "    }\n",
              "\n",
              "    [theme=dark] .colab-df-convert:hover {\n",
              "      background-color: #434B5C;\n",
              "      box-shadow: 0px 1px 3px 1px rgba(0, 0, 0, 0.15);\n",
              "      filter: drop-shadow(0px 1px 2px rgba(0, 0, 0, 0.3));\n",
              "      fill: #FFFFFF;\n",
              "    }\n",
              "  </style>\n",
              "\n",
              "      <script>\n",
              "        const buttonEl =\n",
              "          document.querySelector('#df-aba962ff-d90a-4482-986a-1d0ef839a9a2 button.colab-df-convert');\n",
              "        buttonEl.style.display =\n",
              "          google.colab.kernel.accessAllowed ? 'block' : 'none';\n",
              "\n",
              "        async function convertToInteractive(key) {\n",
              "          const element = document.querySelector('#df-aba962ff-d90a-4482-986a-1d0ef839a9a2');\n",
              "          const dataTable =\n",
              "            await google.colab.kernel.invokeFunction('convertToInteractive',\n",
              "                                                     [key], {});\n",
              "          if (!dataTable) return;\n",
              "\n",
              "          const docLinkHtml = 'Like what you see? Visit the ' +\n",
              "            '<a target=\"_blank\" href=https://colab.research.google.com/notebooks/data_table.ipynb>data table notebook</a>'\n",
              "            + ' to learn more about interactive tables.';\n",
              "          element.innerHTML = '';\n",
              "          dataTable['output_type'] = 'display_data';\n",
              "          await google.colab.output.renderOutput(dataTable, element);\n",
              "          const docLink = document.createElement('div');\n",
              "          docLink.innerHTML = docLinkHtml;\n",
              "          element.appendChild(docLink);\n",
              "        }\n",
              "      </script>\n",
              "    </div>\n",
              "  </div>\n",
              "  "
            ]
          },
          "metadata": {},
          "execution_count": 79
        }
      ]
    },
    {
      "cell_type": "code",
      "source": [
        "# dataframe 형태를 변환\n",
        "\n",
        "if isinstance(data, pd.DataFrame):\n",
        "    data = data.values\n",
        "data[:6]"
      ],
      "metadata": {
        "id": "w11llLRK-WBP",
        "colab": {
          "base_uri": "https://localhost:8080/"
        },
        "outputId": "f3c3ad61-9e13-4a66-b999-c40e84e89bd1"
      },
      "execution_count": 80,
      "outputs": [
        {
          "output_type": "execute_result",
          "data": {
            "text/plain": [
              "array([[50, 12],\n",
              "       [50, 15],\n",
              "       [50,  8],\n",
              "       [50, 10],\n",
              "       [50,  4],\n",
              "       [50,  7]])"
            ]
          },
          "metadata": {},
          "execution_count": 80
        }
      ]
    },
    {
      "cell_type": "code",
      "source": [
        "# np chart 구성을 위한 setting 값 설정\n",
        "\n",
        "title_ = \"np chart\"\n",
        "plt.style.use('grayscale')\n",
        "mpl.rcParams['lines.markersize'] = 4\n",
        "\n",
        "size = len(data[0]) \n",
        "layers = []\n",
        "points = None\n",
        "summary = []\n",
        "size = size-1"
      ],
      "metadata": {
        "id": "sBg9FHlS9B7d"
      },
      "execution_count": 81,
      "outputs": []
    },
    {
      "cell_type": "markdown",
      "source": [
        "![image.png](data:image/png;base64,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)"
      ],
      "metadata": {
        "id": "38JJAN9-Nswk"
      }
    },
    {
      "cell_type": "code",
      "source": [
        "# Control Chart plotting 함수\n",
        "\n",
        "def plot(data, size, newdata=None):\n",
        "\n",
        "    data = data.T\n",
        "\n",
        "    data2 = data / sizes # p_hat\n",
        "    pbar = np.mean(data2)\n",
        "    npbar = sizes[0] * pbar\n",
        "\n",
        "    lcl = npbar - 3 * np.sqrt(npbar * (1 - pbar)) \n",
        "    ucl = npbar + 3 * np.sqrt(npbar * (1 - pbar)) \n",
        "\n",
        "    return (data, npbar, lcl, ucl, title_)"
      ],
      "metadata": {
        "id": "0bXby-rC9B-l"
      },
      "execution_count": 82,
      "outputs": []
    },
    {
      "cell_type": "code",
      "source": [
        "# 데이터 값 구분에 따른 빈도수로 표현\n",
        "\n",
        "size = size - 1\n",
        "sizes, data = data.T\n",
        "\n",
        "print(\"size: \\n\", sizes)\n",
        "print(\"data: \\n\", data)"
      ],
      "metadata": {
        "colab": {
          "base_uri": "https://localhost:8080/"
        },
        "id": "vsamZH-S9CA1",
        "outputId": "6abea8ae-fbf5-4011-fd3a-f60b66836f03"
      },
      "execution_count": 83,
      "outputs": [
        {
          "output_type": "stream",
          "name": "stdout",
          "text": [
            "size: \n",
            " [50 50 50 50 50 50 50 50 50 50 50 50 50 50 50 50 50 50 50 50 50 50 50 50\n",
            " 50 50 50 50 50 50]\n",
            "data: \n",
            " [12 15  8 10  4  7 16  9 14 10  5  6 17 12 22  8 10  5 13 11 20 18 24 15\n",
            "  9 12  7 13  9  6]\n"
          ]
        }
      ]
    },
    {
      "cell_type": "code",
      "source": [
        "from IPython.core.display import ProgressBar\n",
        "# 데이터를 비율(=값/빈도수)로 표현\n",
        "\n",
        "data2 = data / sizes\n",
        "pbar = np.mean(data2)\n",
        "npbar = sizes[0] * pbar\n",
        "\n",
        "print(\"pbar: \", pbar)\n",
        "print(\"npbar: \", npbar)\n",
        "print(\"mean of sizes: \", np.mean(sizes))"
      ],
      "metadata": {
        "colab": {
          "base_uri": "https://localhost:8080/"
        },
        "id": "7ACrQKBC9CEJ",
        "outputId": "d8f73f2d-fe7b-478a-e51b-abb8023c5ea9"
      },
      "execution_count": 84,
      "outputs": [
        {
          "output_type": "stream",
          "name": "stdout",
          "text": [
            "pbar:  0.2313333333333333\n",
            "npbar:  11.566666666666665\n",
            "mean of sizes:  50.0\n"
          ]
        }
      ]
    },
    {
      "cell_type": "code",
      "source": [
        "size = sizes[0]\n",
        "lcl = npbar - 3 * np.sqrt((npbar * (1 - pbar)))\n",
        "ucl = npbar + 3 * np.sqrt((npbar * (1 - pbar)))\n",
        "\n",
        "if lcl < 0:\n",
        "    lcl = 0\n",
        "\n",
        "print(\"size: \", size)\n",
        "print(\"Lower control limit (LCL): \", lcl)\n",
        "print(\"Upper control limit (UCL): \", ucl)"
      ],
      "metadata": {
        "colab": {
          "base_uri": "https://localhost:8080/"
        },
        "id": "s0uY1jrt9CF2",
        "outputId": "a0f12686-fc1f-41c4-9440-af6fe0364821"
      },
      "execution_count": 85,
      "outputs": [
        {
          "output_type": "stream",
          "name": "stdout",
          "text": [
            "size:  50\n",
            "Lower control limit (LCL):  2.6213774035964086\n",
            "Upper control limit (UCL):  20.51195592973692\n"
          ]
        }
      ]
    },
    {
      "cell_type": "code",
      "source": [
        "# 상기 과정을 plot 함수 통해 적용\n",
        "\n",
        "result= plot(data, sizes, newdata=None)\n",
        "data = result[0]\n",
        "npbar = result[1]\n",
        "lcl = result[2]\n",
        "ucl = result[3]\n",
        "title = _title = result[4]\n",
        "\n",
        "print(\"npbar: \", npbar)\n",
        "print(\"Lower control limit (LCL): \", lcl)\n",
        "print(\"Upper control limit (UCL): \", ucl)\n",
        "print(\"Chart title: \", title_)"
      ],
      "metadata": {
        "colab": {
          "base_uri": "https://localhost:8080/"
        },
        "id": "8k6f4OII9CHu",
        "outputId": "23c7f521-dae2-4072-e73c-8236792f1e40"
      },
      "execution_count": 86,
      "outputs": [
        {
          "output_type": "stream",
          "name": "stdout",
          "text": [
            "npbar:  11.566666666666665\n",
            "Lower control limit (LCL):  2.6213774035964086\n",
            "Upper control limit (UCL):  20.51195592973692\n",
            "Chart title:  np chart\n"
          ]
        }
      ]
    },
    {
      "cell_type": "code",
      "source": [
        "values = data\n",
        "center = npbar # Control Limit (CL) : n*p bar\n",
        "\n",
        "num = len(data)\n",
        "if isinstance(data[0], list):\n",
        "    num = len(data[0])"
      ],
      "metadata": {
        "id": "qwEmsbQm_Xpe"
      },
      "execution_count": 87,
      "outputs": []
    },
    {
      "cell_type": "code",
      "source": [
        "fig = plt.figure()\n",
        "ax = fig.add_subplot(1, 1, 1) # suplot 추가 가능\n",
        "#ax.yaxis.tick_right() # 축을 오른쪽에 표현하고자 할 때, 사용 가능"
      ],
      "metadata": {
        "colab": {
          "base_uri": "https://localhost:8080/",
          "height": 269
        },
        "id": "ibRB8FJZ_GnB",
        "outputId": "2a6ad858-4bd7-40e9-b926-33d0caf990a0"
      },
      "execution_count": 88,
      "outputs": [
        {
          "output_type": "display_data",
          "data": {
            "text/plain": [
              "<Figure size 432x288 with 1 Axes>"
            ],
            "image/png": "[encoded data removed]"
          },
          "metadata": {}
        }
      ]
    },
    {
      "cell_type": "code",
      "source": [
        "ax.yaxis.set_major_formatter(mtick.FormatStrFormatter('%.3f')) # 축의 수치를 소수점 셋째자리까지 표현\n",
        "fig"
      ],
      "metadata": {
        "colab": {
          "base_uri": "https://localhost:8080/",
          "height": 269
        },
        "id": "kOX-NinU_Gov",
        "outputId": "f9fc0ecd-5fea-49f9-bd34-9e552c3100f9"
      },
      "execution_count": 89,
      "outputs": [
        {
          "output_type": "execute_result",
          "data": {
            "text/plain": [
              "<Figure size 432x288 with 1 Axes>"
            ],
            "image/png": "[encoded data removed]"
          },
          "metadata": {},
          "execution_count": 89
        }
      ]
    },
    {
      "cell_type": "code",
      "source": [
        "ax.fill_between([-0.3, num], [lcl, lcl], [ucl, ucl], facecolor='green', alpha=0.4) # 영역 색 표시\n",
        "fig"
      ],
      "metadata": {
        "colab": {
          "base_uri": "https://localhost:8080/",
          "height": 265
        },
        "id": "Rjx4gQ6M_GqR",
        "outputId": "b3d607b2-d0d7-4c56-d25f-ea7444652a16"
      },
      "execution_count": 90,
      "outputs": [
        {
          "output_type": "execute_result",
          "data": {
            "text/plain": [
              "<Figure size 432x288 with 1 Axes>"
            ],
            "image/png": "[encoded data removed]"
          },
          "metadata": {},
          "execution_count": 90
        }
      ]
    },
    {
      "cell_type": "code",
      "source": [
        "ax.yaxis.set_ticks([lcl, center, ucl]) # ULC, CL, LCL의 수치만을 표현하도록 설정\n",
        "fig"
      ],
      "metadata": {
        "colab": {
          "base_uri": "https://localhost:8080/",
          "height": 265
        },
        "id": "tG99OFpE_Gth",
        "outputId": "e9022bca-c80a-4ee7-f69d-59219d69c892"
      },
      "execution_count": 91,
      "outputs": [
        {
          "output_type": "execute_result",
          "data": {
            "text/plain": [
              "<Figure size 432x288 with 1 Axes>"
            ],
            "image/png": "[encoded data removed]"
          },
          "metadata": {},
          "execution_count": 91
        }
      ]
    },
    {
      "cell_type": "code",
      "source": [
        "ax.plot([0, num], [center, center], 'k-') # Center (CL, n*p bar) 표시\n",
        "fig"
      ],
      "metadata": {
        "colab": {
          "base_uri": "https://localhost:8080/",
          "height": 265
        },
        "id": "S3WTYfw7_GwZ",
        "outputId": "c81fb68a-3cb7-43cf-88c1-60f4e2fbf7e7"
      },
      "execution_count": 92,
      "outputs": [
        {
          "output_type": "execute_result",
          "data": {
            "text/plain": [
              "<Figure size 432x288 with 1 Axes>"
            ],
            "image/png": "[encoded data removed]"
          },
          "metadata": {},
          "execution_count": 92
        }
      ]
    },
    {
      "cell_type": "code",
      "source": [
        "ax.plot([0, num], [lcl, lcl], 'r:') # LCL 붉은 점선으로 표시\n",
        "fig"
      ],
      "metadata": {
        "colab": {
          "base_uri": "https://localhost:8080/",
          "height": 265
        },
        "id": "MgQjeBjaIv2G",
        "outputId": "4f871880-6593-4835-b087-c84096c737db"
      },
      "execution_count": 93,
      "outputs": [
        {
          "output_type": "execute_result",
          "data": {
            "text/plain": [
              "<Figure size 432x288 with 1 Axes>"
            ],
            "image/png": "[encoded data removed]"
          },
          "metadata": {},
          "execution_count": 93
        }
      ]
    },
    {
      "cell_type": "code",
      "source": [
        "ax.plot([0, num], [ucl, ucl], 'r:') # UCL 붉은 점선으로 표시\n",
        "fig"
      ],
      "metadata": {
        "colab": {
          "base_uri": "https://localhost:8080/",
          "height": 265
        },
        "id": "9hqw5A97Iwt8",
        "outputId": "b410dcaa-4ca8-484d-f9af-b90f77168f7f"
      },
      "execution_count": 94,
      "outputs": [
        {
          "output_type": "execute_result",
          "data": {
            "text/plain": [
              "<Figure size 432x288 with 1 Axes>"
            ],
            "image/png": "[encoded data removed]"
          },
          "metadata": {},
          "execution_count": 94
        }
      ]
    },
    {
      "cell_type": "code",
      "source": [
        "ax.plot(values, 'bo--') # 측정값을 파란색으로 plotting\n",
        "ax.set_title(title)\n",
        "fig"
      ],
      "metadata": {
        "colab": {
          "base_uri": "https://localhost:8080/",
          "height": 281
        },
        "id": "FArLL1b3IxuE",
        "outputId": "793497f5-0973-4604-8003-1479b15de3e4"
      },
      "execution_count": 95,
      "outputs": [
        {
          "output_type": "execute_result",
          "data": {
            "text/plain": [
              "<Figure size 432x288 with 1 Axes>"
            ],
            "image/png": "[encoded data removed]"
          },
          "metadata": {},
          "execution_count": 95
        }
      ]
    },
    {
      "cell_type": "code",
      "source": [
        "# X 축 설정 변경\n",
        "new_xlim = [0, num]\n",
        "ax.set_xlim([0, num] + np.array((-0.3, -0.6)))\n",
        "ax.xaxis.set_ticks(np.arange(*new_xlim, 2))\n",
        "fig"
      ],
      "metadata": {
        "colab": {
          "base_uri": "https://localhost:8080/",
          "height": 281
        },
        "id": "NvX3whpOI3W1",
        "outputId": "90b4280c-6ea3-4e9f-acfa-76e75d533f15"
      },
      "execution_count": 96,
      "outputs": [
        {
          "output_type": "execute_result",
          "data": {
            "text/plain": [
              "<Figure size 432x288 with 1 Axes>"
            ],
            "image/png": "[encoded data removed]"
          },
          "metadata": {},
          "execution_count": 96
        }
      ]
    },
    {
      "cell_type": "markdown",
      "source": [
        "## (2) Simulation Data 활용하여 \"np chart\" Fitting"
      ],
      "metadata": {
        "id": "h5s6gnKsQGIL"
      }
    },
    {
      "cell_type": "code",
      "source": [
        "# Simulation data 생성\n",
        "\n",
        "np.random.seed(3)\n",
        "\n",
        "n = 500\n",
        "m = 30\n",
        "\n",
        "p_train = {'nonconforming':np.random.randint(1,10,m).tolist(), \n",
        "           'sample_size':n}\n",
        "p_test = {'nonconforming':np.random.randint(1,10,10).tolist(), \n",
        "          'sample_size':n}\n",
        "\n",
        "idx = np.random.choice(30, 3, False)  # 이상 데이터 설정\n",
        "for i in idx: \n",
        "    p_train['nonconforming'][i] = p_train['nonconforming'][i] + 10\n",
        "    \n",
        "idx = np.random.choice(10, 2, False)  # 이상 데이터 설정\n",
        "for i in idx: \n",
        "    p_test['nonconforming'][i] = p_test['nonconforming'][i] + 10"
      ],
      "metadata": {
        "id": "EbUtLVy3_GyR"
      },
      "execution_count": 97,
      "outputs": []
    },
    {
      "cell_type": "code",
      "source": [
        "# Dataframe 형태 변환\n",
        "p_train = pd.DataFrame(p_train)\n",
        "p_test = pd.DataFrame(p_test)\n",
        "\n",
        "# probability data 변환 (=값/빈도수)\n",
        "p_train['p'] = p_train['nonconforming']/p_train['sample_size']\n",
        "p_test['p'] = p_test['nonconforming']/p_test['sample_size']"
      ],
      "metadata": {
        "id": "iBJNH6G7P3qr"
      },
      "execution_count": 98,
      "outputs": []
    },
    {
      "cell_type": "code",
      "source": [
        "p_train.head()"
      ],
      "metadata": {
        "colab": {
          "base_uri": "https://localhost:8080/",
          "height": 206
        },
        "id": "9BvfZfdHP3tq",
        "outputId": "d87fd409-76e8-434a-d6f6-fddad7ef8062"
      },
      "execution_count": 99,
      "outputs": [
        {
          "output_type": "execute_result",
          "data": {
            "text/plain": [
              "   nonconforming  sample_size      p\n",
              "0              9          500  0.018\n",
              "1              4          500  0.008\n",
              "2              9          500  0.018\n",
              "3              9          500  0.018\n",
              "4              1          500  0.002"
            ],
            "text/html": [
              "\n",
              "  <div id=\"df-c3bf1642-a9ff-4753-940f-c0fda75cd343\">\n",
              "    <div class=\"colab-df-container\">\n",
              "      <div>\n",
              "<style scoped>\n",
              "    .dataframe tbody tr th:only-of-type {\n",
              "        vertical-align: middle;\n",
              "    }\n",
              "\n",
              "    .dataframe tbody tr th {\n",
              "        vertical-align: top;\n",
              "    }\n",
              "\n",
              "    .dataframe thead th {\n",
              "        text-align: right;\n",
              "    }\n",
              "</style>\n",
              "<table border=\"1\" class=\"dataframe\">\n",
              "  <thead>\n",
              "    <tr style=\"text-align: right;\">\n",
              "      <th></th>\n",
              "      <th>nonconforming</th>\n",
              "      <th>sample_size</th>\n",
              "      <th>p</th>\n",
              "    </tr>\n",
              "  </thead>\n",
              "  <tbody>\n",
              "    <tr>\n",
              "      <th>0</th>\n",
              "      <td>9</td>\n",
              "      <td>500</td>\n",
              "      <td>0.018</td>\n",
              "    </tr>\n",
              "    <tr>\n",
              "      <th>1</th>\n",
              "      <td>4</td>\n",
              "      <td>500</td>\n",
              "      <td>0.008</td>\n",
              "    </tr>\n",
              "    <tr>\n",
              "      <th>2</th>\n",
              "      <td>9</td>\n",
              "      <td>500</td>\n",
              "      <td>0.018</td>\n",
              "    </tr>\n",
              "    <tr>\n",
              "      <th>3</th>\n",
              "      <td>9</td>\n",
              "      <td>500</td>\n",
              "      <td>0.018</td>\n",
              "    </tr>\n",
              "    <tr>\n",
              "      <th>4</th>\n",
              "      <td>1</td>\n",
              "      <td>500</td>\n",
              "      <td>0.002</td>\n",
              "    </tr>\n",
              "  </tbody>\n",
              "</table>\n",
              "</div>\n",
              "      <button class=\"colab-df-convert\" onclick=\"convertToInteractive('df-c3bf1642-a9ff-4753-940f-c0fda75cd343')\"\n",
              "              title=\"Convert this dataframe to an interactive table.\"\n",
              "              style=\"display:none;\">\n",
              "        \n",
              "  <svg xmlns=\"http://www.w3.org/2000/svg\" height=\"24px\"viewBox=\"0 0 24 24\"\n",
              "       width=\"24px\">\n",
              "    <path d=\"M0 0h24v24H0V0z\" fill=\"none\"/>\n",
              "    <path d=\"M18.56 5.44l.94 2.06.94-2.06 2.06-.94-2.06-.94-.94-2.06-.94 2.06-2.06.94zm-11 1L8.5 8.5l.94-2.06 2.06-.94-2.06-.94L8.5 2.5l-.94 2.06-2.06.94zm10 10l.94 2.06.94-2.06 2.06-.94-2.06-.94-.94-2.06-.94 2.06-2.06.94z\"/><path d=\"M17.41 7.96l-1.37-1.37c-.4-.4-.92-.59-1.43-.59-.52 0-1.04.2-1.43.59L10.3 9.45l-7.72 7.72c-.78.78-.78 2.05 0 2.83L4 21.41c.39.39.9.59 1.41.59.51 0 1.02-.2 1.41-.59l7.78-7.78 2.81-2.81c.8-.78.8-2.07 0-2.86zM5.41 20L4 18.59l7.72-7.72 1.47 1.35L5.41 20z\"/>\n",
              "  </svg>\n",
              "      </button>\n",
              "      \n",
              "  <style>\n",
              "    .colab-df-container {\n",
              "      display:flex;\n",
              "      flex-wrap:wrap;\n",
              "      gap: 12px;\n",
              "    }\n",
              "\n",
              "    .colab-df-convert {\n",
              "      background-color: #E8F0FE;\n",
              "      border: none;\n",
              "      border-radius: 50%;\n",
              "      cursor: pointer;\n",
              "      display: none;\n",
              "      fill: #1967D2;\n",
              "      height: 32px;\n",
              "      padding: 0 0 0 0;\n",
              "      width: 32px;\n",
              "    }\n",
              "\n",
              "    .colab-df-convert:hover {\n",
              "      background-color: #E2EBFA;\n",
              "      box-shadow: 0px 1px 2px rgba(60, 64, 67, 0.3), 0px 1px 3px 1px rgba(60, 64, 67, 0.15);\n",
              "      fill: #174EA6;\n",
              "    }\n",
              "\n",
              "    [theme=dark] .colab-df-convert {\n",
              "      background-color: #3B4455;\n",
              "      fill: #D2E3FC;\n",
              "    }\n",
              "\n",
              "    [theme=dark] .colab-df-convert:hover {\n",
              "      background-color: #434B5C;\n",
              "      box-shadow: 0px 1px 3px 1px rgba(0, 0, 0, 0.15);\n",
              "      filter: drop-shadow(0px 1px 2px rgba(0, 0, 0, 0.3));\n",
              "      fill: #FFFFFF;\n",
              "    }\n",
              "  </style>\n",
              "\n",
              "      <script>\n",
              "        const buttonEl =\n",
              "          document.querySelector('#df-c3bf1642-a9ff-4753-940f-c0fda75cd343 button.colab-df-convert');\n",
              "        buttonEl.style.display =\n",
              "          google.colab.kernel.accessAllowed ? 'block' : 'none';\n",
              "\n",
              "        async function convertToInteractive(key) {\n",
              "          const element = document.querySelector('#df-c3bf1642-a9ff-4753-940f-c0fda75cd343');\n",
              "          const dataTable =\n",
              "            await google.colab.kernel.invokeFunction('convertToInteractive',\n",
              "                                                     [key], {});\n",
              "          if (!dataTable) return;\n",
              "\n",
              "          const docLinkHtml = 'Like what you see? Visit the ' +\n",
              "            '<a target=\"_blank\" href=https://colab.research.google.com/notebooks/data_table.ipynb>data table notebook</a>'\n",
              "            + ' to learn more about interactive tables.';\n",
              "          element.innerHTML = '';\n",
              "          dataTable['output_type'] = 'display_data';\n",
              "          await google.colab.output.renderOutput(dataTable, element);\n",
              "          const docLink = document.createElement('div');\n",
              "          docLink.innerHTML = docLinkHtml;\n",
              "          element.appendChild(docLink);\n",
              "        }\n",
              "      </script>\n",
              "    </div>\n",
              "  </div>\n",
              "  "
            ]
          },
          "metadata": {},
          "execution_count": 99
        }
      ]
    },
    {
      "cell_type": "markdown",
      "source": [
        "![image.png](data:image/png;base64,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)"
      ],
      "metadata": {
        "id": "fItYQ-7ZQ8fR"
      }
    },
    {
      "cell_type": "markdown",
      "source": [
        "> Phase I"
      ],
      "metadata": {
        "id": "o29NlisVQvTS"
      }
    },
    {
      "cell_type": "markdown",
      "source": [
        "![image.png](data:image/png;base64,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)"
      ],
      "metadata": {
        "id": "eKsLseFURQCO"
      }
    },
    {
      "cell_type": "code",
      "source": [
        "# np bar 계산\n",
        "p_bar = np.sum(p_train['nonconforming'])/(m*n)\n",
        "np_bar = n*(np.sum(p_train['nonconforming'])/(m*n))\n",
        "print(f'np bar = {np_bar:.4f}')\n",
        "\n",
        "UCL = n * p_bar + 3 * np.sqrt((n * p_bar * (1-p_bar)))  \n",
        "LCL = n * p_bar - 3 * np.sqrt((n * p_bar * (1-p_bar)))  \n",
        "print(f'Trial UCL = {UCL:.4f}\\tTrial LCL = {LCL:.4f}')\n",
        "\n",
        "if LCL < 0:\n",
        "    LCL = 0\n",
        "\n",
        "print(f'Trial UCL = {UCL:.4f}\\tTrial LCL = {LCL:.4f}')"
      ],
      "metadata": {
        "colab": {
          "base_uri": "https://localhost:8080/"
        },
        "id": "hXazcs5OP3vO",
        "outputId": "885d53df-fb2b-4cd0-a317-59b8e9d06a3f"
      },
      "execution_count": 100,
      "outputs": [
        {
          "output_type": "stream",
          "name": "stdout",
          "text": [
            "np bar = 6.4667\n",
            "Trial UCL = 14.0461\tTrial LCL = -1.1127\n",
            "Trial UCL = 14.0461\tTrial LCL = 0.0000\n"
          ]
        }
      ]
    },
    {
      "cell_type": "code",
      "source": [
        "# Phase I 단계에서 Control Limit을 벗어나는 점 확인 후, Control Limit 내 점에 대해서만 s1 변수에 저장\n",
        "\n",
        "p_train['s1'] = (p_train['nonconforming']>LCL) & (p_train['nonconforming']<UCL)\n",
        "print('1st Trial Control Limit을 벗어나는 샘플 인덱스: {}'.format(list(p_train['s1'][p_train['s1'] == 0].index)))"
      ],
      "metadata": {
        "colab": {
          "base_uri": "https://localhost:8080/"
        },
        "id": "Te2aaZ-iP3wz",
        "outputId": "303eb8ff-2bce-417f-f32c-c974e94ad122"
      },
      "execution_count": 101,
      "outputs": [
        {
          "output_type": "stream",
          "name": "stdout",
          "text": [
            "1st Trial Control Limit을 벗어나는 샘플 인덱스: [20, 23]\n"
          ]
        }
      ]
    },
    {
      "cell_type": "code",
      "source": [
        "p_train"
      ],
      "metadata": {
        "colab": {
          "base_uri": "https://localhost:8080/",
          "height": 990
        },
        "id": "8obJmb5kVVdq",
        "outputId": "ff687b8f-437c-4da6-c0b6-6ac109646f71"
      },
      "execution_count": 102,
      "outputs": [
        {
          "output_type": "execute_result",
          "data": {
            "text/plain": [
              "    nonconforming  sample_size      p     s1\n",
              "0               9          500  0.018   True\n",
              "1               4          500  0.008   True\n",
              "2               9          500  0.018   True\n",
              "3               9          500  0.018   True\n",
              "4               1          500  0.002   True\n",
              "5               6          500  0.012   True\n",
              "6               4          500  0.008   True\n",
              "7               6          500  0.012   True\n",
              "8               8          500  0.016   True\n",
              "9               7          500  0.014   True\n",
              "10              1          500  0.002   True\n",
              "11              5          500  0.010   True\n",
              "12              8          500  0.016   True\n",
              "13              9          500  0.018   True\n",
              "14              2          500  0.004   True\n",
              "15              7          500  0.014   True\n",
              "16              3          500  0.006   True\n",
              "17              3          500  0.006   True\n",
              "18             12          500  0.024   True\n",
              "19              4          500  0.008   True\n",
              "20             16          500  0.032  False\n",
              "21              9          500  0.018   True\n",
              "22              2          500  0.004   True\n",
              "23             19          500  0.038  False\n",
              "24              8          500  0.016   True\n",
              "25              9          500  0.018   True\n",
              "26              2          500  0.004   True\n",
              "27              1          500  0.002   True\n",
              "28              6          500  0.012   True\n",
              "29              5          500  0.010   True"
            ],
            "text/html": [
              "\n",
              "  <div id=\"df-67eb9b76-734c-4b30-a627-e561562fd866\">\n",
              "    <div class=\"colab-df-container\">\n",
              "      <div>\n",
              "<style scoped>\n",
              "    .dataframe tbody tr th:only-of-type {\n",
              "        vertical-align: middle;\n",
              "    }\n",
              "\n",
              "    .dataframe tbody tr th {\n",
              "        vertical-align: top;\n",
              "    }\n",
              "\n",
              "    .dataframe thead th {\n",
              "        text-align: right;\n",
              "    }\n",
              "</style>\n",
              "<table border=\"1\" class=\"dataframe\">\n",
              "  <thead>\n",
              "    <tr style=\"text-align: right;\">\n",
              "      <th></th>\n",
              "      <th>nonconforming</th>\n",
              "      <th>sample_size</th>\n",
              "      <th>p</th>\n",
              "      <th>s1</th>\n",
              "    </tr>\n",
              "  </thead>\n",
              "  <tbody>\n",
              "    <tr>\n",
              "      <th>0</th>\n",
              "      <td>9</td>\n",
              "      <td>500</td>\n",
              "      <td>0.018</td>\n",
              "      <td>True</td>\n",
              "    </tr>\n",
              "    <tr>\n",
              "      <th>1</th>\n",
              "      <td>4</td>\n",
              "      <td>500</td>\n",
              "      <td>0.008</td>\n",
              "      <td>True</td>\n",
              "    </tr>\n",
              "    <tr>\n",
              "      <th>2</th>\n",
              "      <td>9</td>\n",
              "      <td>500</td>\n",
              "      <td>0.018</td>\n",
              "      <td>True</td>\n",
              "    </tr>\n",
              "    <tr>\n",
              "      <th>3</th>\n",
              "      <td>9</td>\n",
              "      <td>500</td>\n",
              "      <td>0.018</td>\n",
              "      <td>True</td>\n",
              "    </tr>\n",
              "    <tr>\n",
              "      <th>4</th>\n",
              "      <td>1</td>\n",
              "      <td>500</td>\n",
              "      <td>0.002</td>\n",
              "      <td>True</td>\n",
              "    </tr>\n",
              "    <tr>\n",
              "      <th>5</th>\n",
              "      <td>6</td>\n",
              "      <td>500</td>\n",
              "      <td>0.012</td>\n",
              "      <td>True</td>\n",
              "    </tr>\n",
              "    <tr>\n",
              "      <th>6</th>\n",
              "      <td>4</td>\n",
              "      <td>500</td>\n",
              "      <td>0.008</td>\n",
              "      <td>True</td>\n",
              "    </tr>\n",
              "    <tr>\n",
              "      <th>7</th>\n",
              "      <td>6</td>\n",
              "      <td>500</td>\n",
              "      <td>0.012</td>\n",
              "      <td>True</td>\n",
              "    </tr>\n",
              "    <tr>\n",
              "      <th>8</th>\n",
              "      <td>8</td>\n",
              "      <td>500</td>\n",
              "      <td>0.016</td>\n",
              "      <td>True</td>\n",
              "    </tr>\n",
              "    <tr>\n",
              "      <th>9</th>\n",
              "      <td>7</td>\n",
              "      <td>500</td>\n",
              "      <td>0.014</td>\n",
              "      <td>True</td>\n",
              "    </tr>\n",
              "    <tr>\n",
              "      <th>10</th>\n",
              "      <td>1</td>\n",
              "      <td>500</td>\n",
              "      <td>0.002</td>\n",
              "      <td>True</td>\n",
              "    </tr>\n",
              "    <tr>\n",
              "      <th>11</th>\n",
              "      <td>5</td>\n",
              "      <td>500</td>\n",
              "      <td>0.010</td>\n",
              "      <td>True</td>\n",
              "    </tr>\n",
              "    <tr>\n",
              "      <th>12</th>\n",
              "      <td>8</td>\n",
              "      <td>500</td>\n",
              "      <td>0.016</td>\n",
              "      <td>True</td>\n",
              "    </tr>\n",
              "    <tr>\n",
              "      <th>13</th>\n",
              "      <td>9</td>\n",
              "      <td>500</td>\n",
              "      <td>0.018</td>\n",
              "      <td>True</td>\n",
              "    </tr>\n",
              "    <tr>\n",
              "      <th>14</th>\n",
              "      <td>2</td>\n",
              "      <td>500</td>\n",
              "      <td>0.004</td>\n",
              "      <td>True</td>\n",
              "    </tr>\n",
              "    <tr>\n",
              "      <th>15</th>\n",
              "      <td>7</td>\n",
              "      <td>500</td>\n",
              "      <td>0.014</td>\n",
              "      <td>True</td>\n",
              "    </tr>\n",
              "    <tr>\n",
              "      <th>16</th>\n",
              "      <td>3</td>\n",
              "      <td>500</td>\n",
              "      <td>0.006</td>\n",
              "      <td>True</td>\n",
              "    </tr>\n",
              "    <tr>\n",
              "      <th>17</th>\n",
              "      <td>3</td>\n",
              "      <td>500</td>\n",
              "      <td>0.006</td>\n",
              "      <td>True</td>\n",
              "    </tr>\n",
              "    <tr>\n",
              "      <th>18</th>\n",
              "      <td>12</td>\n",
              "      <td>500</td>\n",
              "      <td>0.024</td>\n",
              "      <td>True</td>\n",
              "    </tr>\n",
              "    <tr>\n",
              "      <th>19</th>\n",
              "      <td>4</td>\n",
              "      <td>500</td>\n",
              "      <td>0.008</td>\n",
              "      <td>True</td>\n",
              "    </tr>\n",
              "    <tr>\n",
              "      <th>20</th>\n",
              "      <td>16</td>\n",
              "      <td>500</td>\n",
              "      <td>0.032</td>\n",
              "      <td>False</td>\n",
              "    </tr>\n",
              "    <tr>\n",
              "      <th>21</th>\n",
              "      <td>9</td>\n",
              "      <td>500</td>\n",
              "      <td>0.018</td>\n",
              "      <td>True</td>\n",
              "    </tr>\n",
              "    <tr>\n",
              "      <th>22</th>\n",
              "      <td>2</td>\n",
              "      <td>500</td>\n",
              "      <td>0.004</td>\n",
              "      <td>True</td>\n",
              "    </tr>\n",
              "    <tr>\n",
              "      <th>23</th>\n",
              "      <td>19</td>\n",
              "      <td>500</td>\n",
              "      <td>0.038</td>\n",
              "      <td>False</td>\n",
              "    </tr>\n",
              "    <tr>\n",
              "      <th>24</th>\n",
              "      <td>8</td>\n",
              "      <td>500</td>\n",
              "      <td>0.016</td>\n",
              "      <td>True</td>\n",
              "    </tr>\n",
              "    <tr>\n",
              "      <th>25</th>\n",
              "      <td>9</td>\n",
              "      <td>500</td>\n",
              "      <td>0.018</td>\n",
              "      <td>True</td>\n",
              "    </tr>\n",
              "    <tr>\n",
              "      <th>26</th>\n",
              "      <td>2</td>\n",
              "      <td>500</td>\n",
              "      <td>0.004</td>\n",
              "      <td>True</td>\n",
              "    </tr>\n",
              "    <tr>\n",
              "      <th>27</th>\n",
              "      <td>1</td>\n",
              "      <td>500</td>\n",
              "      <td>0.002</td>\n",
              "      <td>True</td>\n",
              "    </tr>\n",
              "    <tr>\n",
              "      <th>28</th>\n",
              "      <td>6</td>\n",
              "      <td>500</td>\n",
              "      <td>0.012</td>\n",
              "      <td>True</td>\n",
              "    </tr>\n",
              "    <tr>\n",
              "      <th>29</th>\n",
              "      <td>5</td>\n",
              "      <td>500</td>\n",
              "      <td>0.010</td>\n",
              "      <td>True</td>\n",
              "    </tr>\n",
              "  </tbody>\n",
              "</table>\n",
              "</div>\n",
              "      <button class=\"colab-df-convert\" onclick=\"convertToInteractive('df-67eb9b76-734c-4b30-a627-e561562fd866')\"\n",
              "              title=\"Convert this dataframe to an interactive table.\"\n",
              "              style=\"display:none;\">\n",
              "        \n",
              "  <svg xmlns=\"http://www.w3.org/2000/svg\" height=\"24px\"viewBox=\"0 0 24 24\"\n",
              "       width=\"24px\">\n",
              "    <path d=\"M0 0h24v24H0V0z\" fill=\"none\"/>\n",
              "    <path d=\"M18.56 5.44l.94 2.06.94-2.06 2.06-.94-2.06-.94-.94-2.06-.94 2.06-2.06.94zm-11 1L8.5 8.5l.94-2.06 2.06-.94-2.06-.94L8.5 2.5l-.94 2.06-2.06.94zm10 10l.94 2.06.94-2.06 2.06-.94-2.06-.94-.94-2.06-.94 2.06-2.06.94z\"/><path d=\"M17.41 7.96l-1.37-1.37c-.4-.4-.92-.59-1.43-.59-.52 0-1.04.2-1.43.59L10.3 9.45l-7.72 7.72c-.78.78-.78 2.05 0 2.83L4 21.41c.39.39.9.59 1.41.59.51 0 1.02-.2 1.41-.59l7.78-7.78 2.81-2.81c.8-.78.8-2.07 0-2.86zM5.41 20L4 18.59l7.72-7.72 1.47 1.35L5.41 20z\"/>\n",
              "  </svg>\n",
              "      </button>\n",
              "      \n",
              "  <style>\n",
              "    .colab-df-container {\n",
              "      display:flex;\n",
              "      flex-wrap:wrap;\n",
              "      gap: 12px;\n",
              "    }\n",
              "\n",
              "    .colab-df-convert {\n",
              "      background-color: #E8F0FE;\n",
              "      border: none;\n",
              "      border-radius: 50%;\n",
              "      cursor: pointer;\n",
              "      display: none;\n",
              "      fill: #1967D2;\n",
              "      height: 32px;\n",
              "      padding: 0 0 0 0;\n",
              "      width: 32px;\n",
              "    }\n",
              "\n",
              "    .colab-df-convert:hover {\n",
              "      background-color: #E2EBFA;\n",
              "      box-shadow: 0px 1px 2px rgba(60, 64, 67, 0.3), 0px 1px 3px 1px rgba(60, 64, 67, 0.15);\n",
              "      fill: #174EA6;\n",
              "    }\n",
              "\n",
              "    [theme=dark] .colab-df-convert {\n",
              "      background-color: #3B4455;\n",
              "      fill: #D2E3FC;\n",
              "    }\n",
              "\n",
              "    [theme=dark] .colab-df-convert:hover {\n",
              "      background-color: #434B5C;\n",
              "      box-shadow: 0px 1px 3px 1px rgba(0, 0, 0, 0.15);\n",
              "      filter: drop-shadow(0px 1px 2px rgba(0, 0, 0, 0.3));\n",
              "      fill: #FFFFFF;\n",
              "    }\n",
              "  </style>\n",
              "\n",
              "      <script>\n",
              "        const buttonEl =\n",
              "          document.querySelector('#df-67eb9b76-734c-4b30-a627-e561562fd866 button.colab-df-convert');\n",
              "        buttonEl.style.display =\n",
              "          google.colab.kernel.accessAllowed ? 'block' : 'none';\n",
              "\n",
              "        async function convertToInteractive(key) {\n",
              "          const element = document.querySelector('#df-67eb9b76-734c-4b30-a627-e561562fd866');\n",
              "          const dataTable =\n",
              "            await google.colab.kernel.invokeFunction('convertToInteractive',\n",
              "                                                     [key], {});\n",
              "          if (!dataTable) return;\n",
              "\n",
              "          const docLinkHtml = 'Like what you see? Visit the ' +\n",
              "            '<a target=\"_blank\" href=https://colab.research.google.com/notebooks/data_table.ipynb>data table notebook</a>'\n",
              "            + ' to learn more about interactive tables.';\n",
              "          element.innerHTML = '';\n",
              "          dataTable['output_type'] = 'display_data';\n",
              "          await google.colab.output.renderOutput(dataTable, element);\n",
              "          const docLink = document.createElement('div');\n",
              "          docLink.innerHTML = docLinkHtml;\n",
              "          element.appendChild(docLink);\n",
              "        }\n",
              "      </script>\n",
              "    </div>\n",
              "  </div>\n",
              "  "
            ]
          },
          "metadata": {},
          "execution_count": 102
        }
      ]
    },
    {
      "cell_type": "code",
      "source": [
        "# Phase I 단계의 np chart plotting\n",
        "\n",
        "plt.figure(figsize = (10,4))\n",
        "plt.plot(p_train['nonconforming'], marker='o', color='r', markersize=3, linewidth=0.5)\n",
        "plt.scatter(p_train['s1'][p_train['s1'] == 0].index, \n",
        "            p_train['nonconforming'][p_train['s1'][p_train['s1'] == 0].index], \n",
        "            s=80, facecolors='none', edgecolors='r')\n",
        "\n",
        "plt.axhline(UCL, color='r', label=f'1st Trial UCL = {UCL:.4f}', linestyle='--')\n",
        "plt.axhline(LCL, color='b', label=f'1st Trial LCL = {LCL:.4f}', linestyle='--')\n",
        "plt.legend()\n",
        "plt.title(f'NP Chart')\n",
        "plt.xlabel('Nonconforming')\n",
        "plt.show()"
      ],
      "metadata": {
        "colab": {
          "base_uri": "https://localhost:8080/",
          "height": 295
        },
        "id": "F3EW4WAZP3yq",
        "outputId": "fee1adf4-c7b2-41c0-d3c7-f1f56cccfff1"
      },
      "execution_count": 103,
      "outputs": [
        {
          "output_type": "display_data",
          "data": {
            "text/plain": [
              "<Figure size 720x288 with 1 Axes>"
            ],
            "image/png": "[encoded data removed]"
          },
          "metadata": {}
        }
      ]
    },
    {
      "cell_type": "code",
      "source": [
        "# Control Limit을 넘어가는 [20, 23] 인덱스를 제외하고 Control Limit 다시 계산\n",
        "\n",
        "p_bar = np.sum(p_train[p_train['s1'] == 1]['nonconforming'])/((m-2)*n)\n",
        "np_bar = n*(np.sum(p_train[p_train['s1'] == 1]['nonconforming'])/((m-2)*n))\n",
        "print(f'np bar = {np_bar:.4f}')\n",
        "\n",
        "UCL = n * p_bar + 3 * np.sqrt((n * p_bar * (1-p_bar)))  \n",
        "LCL = n * p_bar - 3 * np.sqrt((n * p_bar * (1-p_bar)))  \n",
        "print(f'Trial UCL = {UCL:.4f}\\tTrial LCL = {LCL:.4f}')\n",
        "\n",
        "if LCL < 0:\n",
        "    LCL = 0\n",
        "\n",
        "print(f'Trial UCL = {UCL:.4f}\\tTrial LCL = {LCL:.4f}')"
      ],
      "metadata": {
        "colab": {
          "base_uri": "https://localhost:8080/"
        },
        "id": "jKnN5vieRE2q",
        "outputId": "539b200b-190a-433e-c304-ca596fceef57"
      },
      "execution_count": 104,
      "outputs": [
        {
          "output_type": "stream",
          "name": "stdout",
          "text": [
            "np bar = 5.6786\n",
            "Trial UCL = 12.7868\tTrial LCL = -1.4296\n",
            "Trial UCL = 12.7868\tTrial LCL = 0.0000\n"
          ]
        }
      ]
    },
    {
      "cell_type": "code",
      "source": [
        "p_train2 = p_train.copy()\n",
        "p_train2 = p_train2.loc[p_train2['s1'] == True]\n",
        "p_train2"
      ],
      "metadata": {
        "colab": {
          "base_uri": "https://localhost:8080/",
          "height": 927
        },
        "id": "Ri3gOOanV5lN",
        "outputId": "9f3faa3b-42a9-44f3-bdc7-43dba751b54c"
      },
      "execution_count": 105,
      "outputs": [
        {
          "output_type": "execute_result",
          "data": {
            "text/plain": [
              "    nonconforming  sample_size      p    s1\n",
              "0               9          500  0.018  True\n",
              "1               4          500  0.008  True\n",
              "2               9          500  0.018  True\n",
              "3               9          500  0.018  True\n",
              "4               1          500  0.002  True\n",
              "5               6          500  0.012  True\n",
              "6               4          500  0.008  True\n",
              "7               6          500  0.012  True\n",
              "8               8          500  0.016  True\n",
              "9               7          500  0.014  True\n",
              "10              1          500  0.002  True\n",
              "11              5          500  0.010  True\n",
              "12              8          500  0.016  True\n",
              "13              9          500  0.018  True\n",
              "14              2          500  0.004  True\n",
              "15              7          500  0.014  True\n",
              "16              3          500  0.006  True\n",
              "17              3          500  0.006  True\n",
              "18             12          500  0.024  True\n",
              "19              4          500  0.008  True\n",
              "21              9          500  0.018  True\n",
              "22              2          500  0.004  True\n",
              "24              8          500  0.016  True\n",
              "25              9          500  0.018  True\n",
              "26              2          500  0.004  True\n",
              "27              1          500  0.002  True\n",
              "28              6          500  0.012  True\n",
              "29              5          500  0.010  True"
            ],
            "text/html": [
              "\n",
              "  <div id=\"df-0cb2002a-f4d0-4ae5-bfa8-5ebaee197484\">\n",
              "    <div class=\"colab-df-container\">\n",
              "      <div>\n",
              "<style scoped>\n",
              "    .dataframe tbody tr th:only-of-type {\n",
              "        vertical-align: middle;\n",
              "    }\n",
              "\n",
              "    .dataframe tbody tr th {\n",
              "        vertical-align: top;\n",
              "    }\n",
              "\n",
              "    .dataframe thead th {\n",
              "        text-align: right;\n",
              "    }\n",
              "</style>\n",
              "<table border=\"1\" class=\"dataframe\">\n",
              "  <thead>\n",
              "    <tr style=\"text-align: right;\">\n",
              "      <th></th>\n",
              "      <th>nonconforming</th>\n",
              "      <th>sample_size</th>\n",
              "      <th>p</th>\n",
              "      <th>s1</th>\n",
              "    </tr>\n",
              "  </thead>\n",
              "  <tbody>\n",
              "    <tr>\n",
              "      <th>0</th>\n",
              "      <td>9</td>\n",
              "      <td>500</td>\n",
              "      <td>0.018</td>\n",
              "      <td>True</td>\n",
              "    </tr>\n",
              "    <tr>\n",
              "      <th>1</th>\n",
              "      <td>4</td>\n",
              "      <td>500</td>\n",
              "      <td>0.008</td>\n",
              "      <td>True</td>\n",
              "    </tr>\n",
              "    <tr>\n",
              "      <th>2</th>\n",
              "      <td>9</td>\n",
              "      <td>500</td>\n",
              "      <td>0.018</td>\n",
              "      <td>True</td>\n",
              "    </tr>\n",
              "    <tr>\n",
              "      <th>3</th>\n",
              "      <td>9</td>\n",
              "      <td>500</td>\n",
              "      <td>0.018</td>\n",
              "      <td>True</td>\n",
              "    </tr>\n",
              "    <tr>\n",
              "      <th>4</th>\n",
              "      <td>1</td>\n",
              "      <td>500</td>\n",
              "      <td>0.002</td>\n",
              "      <td>True</td>\n",
              "    </tr>\n",
              "    <tr>\n",
              "      <th>5</th>\n",
              "      <td>6</td>\n",
              "      <td>500</td>\n",
              "      <td>0.012</td>\n",
              "      <td>True</td>\n",
              "    </tr>\n",
              "    <tr>\n",
              "      <th>6</th>\n",
              "      <td>4</td>\n",
              "      <td>500</td>\n",
              "      <td>0.008</td>\n",
              "      <td>True</td>\n",
              "    </tr>\n",
              "    <tr>\n",
              "      <th>7</th>\n",
              "      <td>6</td>\n",
              "      <td>500</td>\n",
              "      <td>0.012</td>\n",
              "      <td>True</td>\n",
              "    </tr>\n",
              "    <tr>\n",
              "      <th>8</th>\n",
              "      <td>8</td>\n",
              "      <td>500</td>\n",
              "      <td>0.016</td>\n",
              "      <td>True</td>\n",
              "    </tr>\n",
              "    <tr>\n",
              "      <th>9</th>\n",
              "      <td>7</td>\n",
              "      <td>500</td>\n",
              "      <td>0.014</td>\n",
              "      <td>True</td>\n",
              "    </tr>\n",
              "    <tr>\n",
              "      <th>10</th>\n",
              "      <td>1</td>\n",
              "      <td>500</td>\n",
              "      <td>0.002</td>\n",
              "      <td>True</td>\n",
              "    </tr>\n",
              "    <tr>\n",
              "      <th>11</th>\n",
              "      <td>5</td>\n",
              "      <td>500</td>\n",
              "      <td>0.010</td>\n",
              "      <td>True</td>\n",
              "    </tr>\n",
              "    <tr>\n",
              "      <th>12</th>\n",
              "      <td>8</td>\n",
              "      <td>500</td>\n",
              "      <td>0.016</td>\n",
              "      <td>True</td>\n",
              "    </tr>\n",
              "    <tr>\n",
              "      <th>13</th>\n",
              "      <td>9</td>\n",
              "      <td>500</td>\n",
              "      <td>0.018</td>\n",
              "      <td>True</td>\n",
              "    </tr>\n",
              "    <tr>\n",
              "      <th>14</th>\n",
              "      <td>2</td>\n",
              "      <td>500</td>\n",
              "      <td>0.004</td>\n",
              "      <td>True</td>\n",
              "    </tr>\n",
              "    <tr>\n",
              "      <th>15</th>\n",
              "      <td>7</td>\n",
              "      <td>500</td>\n",
              "      <td>0.014</td>\n",
              "      <td>True</td>\n",
              "    </tr>\n",
              "    <tr>\n",
              "      <th>16</th>\n",
              "      <td>3</td>\n",
              "      <td>500</td>\n",
              "      <td>0.006</td>\n",
              "      <td>True</td>\n",
              "    </tr>\n",
              "    <tr>\n",
              "      <th>17</th>\n",
              "      <td>3</td>\n",
              "      <td>500</td>\n",
              "      <td>0.006</td>\n",
              "      <td>True</td>\n",
              "    </tr>\n",
              "    <tr>\n",
              "      <th>18</th>\n",
              "      <td>12</td>\n",
              "      <td>500</td>\n",
              "      <td>0.024</td>\n",
              "      <td>True</td>\n",
              "    </tr>\n",
              "    <tr>\n",
              "      <th>19</th>\n",
              "      <td>4</td>\n",
              "      <td>500</td>\n",
              "      <td>0.008</td>\n",
              "      <td>True</td>\n",
              "    </tr>\n",
              "    <tr>\n",
              "      <th>21</th>\n",
              "      <td>9</td>\n",
              "      <td>500</td>\n",
              "      <td>0.018</td>\n",
              "      <td>True</td>\n",
              "    </tr>\n",
              "    <tr>\n",
              "      <th>22</th>\n",
              "      <td>2</td>\n",
              "      <td>500</td>\n",
              "      <td>0.004</td>\n",
              "      <td>True</td>\n",
              "    </tr>\n",
              "    <tr>\n",
              "      <th>24</th>\n",
              "      <td>8</td>\n",
              "      <td>500</td>\n",
              "      <td>0.016</td>\n",
              "      <td>True</td>\n",
              "    </tr>\n",
              "    <tr>\n",
              "      <th>25</th>\n",
              "      <td>9</td>\n",
              "      <td>500</td>\n",
              "      <td>0.018</td>\n",
              "      <td>True</td>\n",
              "    </tr>\n",
              "    <tr>\n",
              "      <th>26</th>\n",
              "      <td>2</td>\n",
              "      <td>500</td>\n",
              "      <td>0.004</td>\n",
              "      <td>True</td>\n",
              "    </tr>\n",
              "    <tr>\n",
              "      <th>27</th>\n",
              "      <td>1</td>\n",
              "      <td>500</td>\n",
              "      <td>0.002</td>\n",
              "      <td>True</td>\n",
              "    </tr>\n",
              "    <tr>\n",
              "      <th>28</th>\n",
              "      <td>6</td>\n",
              "      <td>500</td>\n",
              "      <td>0.012</td>\n",
              "      <td>True</td>\n",
              "    </tr>\n",
              "    <tr>\n",
              "      <th>29</th>\n",
              "      <td>5</td>\n",
              "      <td>500</td>\n",
              "      <td>0.010</td>\n",
              "      <td>True</td>\n",
              "    </tr>\n",
              "  </tbody>\n",
              "</table>\n",
              "</div>\n",
              "      <button class=\"colab-df-convert\" onclick=\"convertToInteractive('df-0cb2002a-f4d0-4ae5-bfa8-5ebaee197484')\"\n",
              "              title=\"Convert this dataframe to an interactive table.\"\n",
              "              style=\"display:none;\">\n",
              "        \n",
              "  <svg xmlns=\"http://www.w3.org/2000/svg\" height=\"24px\"viewBox=\"0 0 24 24\"\n",
              "       width=\"24px\">\n",
              "    <path d=\"M0 0h24v24H0V0z\" fill=\"none\"/>\n",
              "    <path d=\"M18.56 5.44l.94 2.06.94-2.06 2.06-.94-2.06-.94-.94-2.06-.94 2.06-2.06.94zm-11 1L8.5 8.5l.94-2.06 2.06-.94-2.06-.94L8.5 2.5l-.94 2.06-2.06.94zm10 10l.94 2.06.94-2.06 2.06-.94-2.06-.94-.94-2.06-.94 2.06-2.06.94z\"/><path d=\"M17.41 7.96l-1.37-1.37c-.4-.4-.92-.59-1.43-.59-.52 0-1.04.2-1.43.59L10.3 9.45l-7.72 7.72c-.78.78-.78 2.05 0 2.83L4 21.41c.39.39.9.59 1.41.59.51 0 1.02-.2 1.41-.59l7.78-7.78 2.81-2.81c.8-.78.8-2.07 0-2.86zM5.41 20L4 18.59l7.72-7.72 1.47 1.35L5.41 20z\"/>\n",
              "  </svg>\n",
              "      </button>\n",
              "      \n",
              "  <style>\n",
              "    .colab-df-container {\n",
              "      display:flex;\n",
              "      flex-wrap:wrap;\n",
              "      gap: 12px;\n",
              "    }\n",
              "\n",
              "    .colab-df-convert {\n",
              "      background-color: #E8F0FE;\n",
              "      border: none;\n",
              "      border-radius: 50%;\n",
              "      cursor: pointer;\n",
              "      display: none;\n",
              "      fill: #1967D2;\n",
              "      height: 32px;\n",
              "      padding: 0 0 0 0;\n",
              "      width: 32px;\n",
              "    }\n",
              "\n",
              "    .colab-df-convert:hover {\n",
              "      background-color: #E2EBFA;\n",
              "      box-shadow: 0px 1px 2px rgba(60, 64, 67, 0.3), 0px 1px 3px 1px rgba(60, 64, 67, 0.15);\n",
              "      fill: #174EA6;\n",
              "    }\n",
              "\n",
              "    [theme=dark] .colab-df-convert {\n",
              "      background-color: #3B4455;\n",
              "      fill: #D2E3FC;\n",
              "    }\n",
              "\n",
              "    [theme=dark] .colab-df-convert:hover {\n",
              "      background-color: #434B5C;\n",
              "      box-shadow: 0px 1px 3px 1px rgba(0, 0, 0, 0.15);\n",
              "      filter: drop-shadow(0px 1px 2px rgba(0, 0, 0, 0.3));\n",
              "      fill: #FFFFFF;\n",
              "    }\n",
              "  </style>\n",
              "\n",
              "      <script>\n",
              "        const buttonEl =\n",
              "          document.querySelector('#df-0cb2002a-f4d0-4ae5-bfa8-5ebaee197484 button.colab-df-convert');\n",
              "        buttonEl.style.display =\n",
              "          google.colab.kernel.accessAllowed ? 'block' : 'none';\n",
              "\n",
              "        async function convertToInteractive(key) {\n",
              "          const element = document.querySelector('#df-0cb2002a-f4d0-4ae5-bfa8-5ebaee197484');\n",
              "          const dataTable =\n",
              "            await google.colab.kernel.invokeFunction('convertToInteractive',\n",
              "                                                     [key], {});\n",
              "          if (!dataTable) return;\n",
              "\n",
              "          const docLinkHtml = 'Like what you see? Visit the ' +\n",
              "            '<a target=\"_blank\" href=https://colab.research.google.com/notebooks/data_table.ipynb>data table notebook</a>'\n",
              "            + ' to learn more about interactive tables.';\n",
              "          element.innerHTML = '';\n",
              "          dataTable['output_type'] = 'display_data';\n",
              "          await google.colab.output.renderOutput(dataTable, element);\n",
              "          const docLink = document.createElement('div');\n",
              "          docLink.innerHTML = docLinkHtml;\n",
              "          element.appendChild(docLink);\n",
              "        }\n",
              "      </script>\n",
              "    </div>\n",
              "  </div>\n",
              "  "
            ]
          },
          "metadata": {},
          "execution_count": 105
        }
      ]
    },
    {
      "cell_type": "code",
      "source": [
        "p_train2['s2'] = (p_train2['nonconforming'] > LCL) & (p_train2['nonconforming'] < UCL)\n",
        "print('2nd Trial Control Limit을 벗어나는 샘플 인덱스: {}'.format(list(p_train2['s2'][p_train2['s2'] == 0].index)))"
      ],
      "metadata": {
        "colab": {
          "base_uri": "https://localhost:8080/"
        },
        "id": "QOTvcPJpRE4p",
        "outputId": "d3bf97fc-780f-4454-841b-31e50b8ae78b"
      },
      "execution_count": 106,
      "outputs": [
        {
          "output_type": "stream",
          "name": "stdout",
          "text": [
            "2nd Trial Control Limit을 벗어나는 샘플 인덱스: []\n"
          ]
        }
      ]
    },
    {
      "cell_type": "code",
      "source": [
        "p_train2"
      ],
      "metadata": {
        "colab": {
          "base_uri": "https://localhost:8080/",
          "height": 927
        },
        "id": "LAFn7pwXRE6R",
        "outputId": "de38b439-a9fa-43de-95d7-c034c3721608"
      },
      "execution_count": 107,
      "outputs": [
        {
          "output_type": "execute_result",
          "data": {
            "text/plain": [
              "    nonconforming  sample_size      p    s1    s2\n",
              "0               9          500  0.018  True  True\n",
              "1               4          500  0.008  True  True\n",
              "2               9          500  0.018  True  True\n",
              "3               9          500  0.018  True  True\n",
              "4               1          500  0.002  True  True\n",
              "5               6          500  0.012  True  True\n",
              "6               4          500  0.008  True  True\n",
              "7               6          500  0.012  True  True\n",
              "8               8          500  0.016  True  True\n",
              "9               7          500  0.014  True  True\n",
              "10              1          500  0.002  True  True\n",
              "11              5          500  0.010  True  True\n",
              "12              8          500  0.016  True  True\n",
              "13              9          500  0.018  True  True\n",
              "14              2          500  0.004  True  True\n",
              "15              7          500  0.014  True  True\n",
              "16              3          500  0.006  True  True\n",
              "17              3          500  0.006  True  True\n",
              "18             12          500  0.024  True  True\n",
              "19              4          500  0.008  True  True\n",
              "21              9          500  0.018  True  True\n",
              "22              2          500  0.004  True  True\n",
              "24              8          500  0.016  True  True\n",
              "25              9          500  0.018  True  True\n",
              "26              2          500  0.004  True  True\n",
              "27              1          500  0.002  True  True\n",
              "28              6          500  0.012  True  True\n",
              "29              5          500  0.010  True  True"
            ],
            "text/html": [
              "\n",
              "  <div id=\"df-3bd97ad2-0506-4598-b45e-69762e51cfd8\">\n",
              "    <div class=\"colab-df-container\">\n",
              "      <div>\n",
              "<style scoped>\n",
              "    .dataframe tbody tr th:only-of-type {\n",
              "        vertical-align: middle;\n",
              "    }\n",
              "\n",
              "    .dataframe tbody tr th {\n",
              "        vertical-align: top;\n",
              "    }\n",
              "\n",
              "    .dataframe thead th {\n",
              "        text-align: right;\n",
              "    }\n",
              "</style>\n",
              "<table border=\"1\" class=\"dataframe\">\n",
              "  <thead>\n",
              "    <tr style=\"text-align: right;\">\n",
              "      <th></th>\n",
              "      <th>nonconforming</th>\n",
              "      <th>sample_size</th>\n",
              "      <th>p</th>\n",
              "      <th>s1</th>\n",
              "      <th>s2</th>\n",
              "    </tr>\n",
              "  </thead>\n",
              "  <tbody>\n",
              "    <tr>\n",
              "      <th>0</th>\n",
              "      <td>9</td>\n",
              "      <td>500</td>\n",
              "      <td>0.018</td>\n",
              "      <td>True</td>\n",
              "      <td>True</td>\n",
              "    </tr>\n",
              "    <tr>\n",
              "      <th>1</th>\n",
              "      <td>4</td>\n",
              "      <td>500</td>\n",
              "      <td>0.008</td>\n",
              "      <td>True</td>\n",
              "      <td>True</td>\n",
              "    </tr>\n",
              "    <tr>\n",
              "      <th>2</th>\n",
              "      <td>9</td>\n",
              "      <td>500</td>\n",
              "      <td>0.018</td>\n",
              "      <td>True</td>\n",
              "      <td>True</td>\n",
              "    </tr>\n",
              "    <tr>\n",
              "      <th>3</th>\n",
              "      <td>9</td>\n",
              "      <td>500</td>\n",
              "      <td>0.018</td>\n",
              "      <td>True</td>\n",
              "      <td>True</td>\n",
              "    </tr>\n",
              "    <tr>\n",
              "      <th>4</th>\n",
              "      <td>1</td>\n",
              "      <td>500</td>\n",
              "      <td>0.002</td>\n",
              "      <td>True</td>\n",
              "      <td>True</td>\n",
              "    </tr>\n",
              "    <tr>\n",
              "      <th>5</th>\n",
              "      <td>6</td>\n",
              "      <td>500</td>\n",
              "      <td>0.012</td>\n",
              "      <td>True</td>\n",
              "      <td>True</td>\n",
              "    </tr>\n",
              "    <tr>\n",
              "      <th>6</th>\n",
              "      <td>4</td>\n",
              "      <td>500</td>\n",
              "      <td>0.008</td>\n",
              "      <td>True</td>\n",
              "      <td>True</td>\n",
              "    </tr>\n",
              "    <tr>\n",
              "      <th>7</th>\n",
              "      <td>6</td>\n",
              "      <td>500</td>\n",
              "      <td>0.012</td>\n",
              "      <td>True</td>\n",
              "      <td>True</td>\n",
              "    </tr>\n",
              "    <tr>\n",
              "      <th>8</th>\n",
              "      <td>8</td>\n",
              "      <td>500</td>\n",
              "      <td>0.016</td>\n",
              "      <td>True</td>\n",
              "      <td>True</td>\n",
              "    </tr>\n",
              "    <tr>\n",
              "      <th>9</th>\n",
              "      <td>7</td>\n",
              "      <td>500</td>\n",
              "      <td>0.014</td>\n",
              "      <td>True</td>\n",
              "      <td>True</td>\n",
              "    </tr>\n",
              "    <tr>\n",
              "      <th>10</th>\n",
              "      <td>1</td>\n",
              "      <td>500</td>\n",
              "      <td>0.002</td>\n",
              "      <td>True</td>\n",
              "      <td>True</td>\n",
              "    </tr>\n",
              "    <tr>\n",
              "      <th>11</th>\n",
              "      <td>5</td>\n",
              "      <td>500</td>\n",
              "      <td>0.010</td>\n",
              "      <td>True</td>\n",
              "      <td>True</td>\n",
              "    </tr>\n",
              "    <tr>\n",
              "      <th>12</th>\n",
              "      <td>8</td>\n",
              "      <td>500</td>\n",
              "      <td>0.016</td>\n",
              "      <td>True</td>\n",
              "      <td>True</td>\n",
              "    </tr>\n",
              "    <tr>\n",
              "      <th>13</th>\n",
              "      <td>9</td>\n",
              "      <td>500</td>\n",
              "      <td>0.018</td>\n",
              "      <td>True</td>\n",
              "      <td>True</td>\n",
              "    </tr>\n",
              "    <tr>\n",
              "      <th>14</th>\n",
              "      <td>2</td>\n",
              "      <td>500</td>\n",
              "      <td>0.004</td>\n",
              "      <td>True</td>\n",
              "      <td>True</td>\n",
              "    </tr>\n",
              "    <tr>\n",
              "      <th>15</th>\n",
              "      <td>7</td>\n",
              "      <td>500</td>\n",
              "      <td>0.014</td>\n",
              "      <td>True</td>\n",
              "      <td>True</td>\n",
              "    </tr>\n",
              "    <tr>\n",
              "      <th>16</th>\n",
              "      <td>3</td>\n",
              "      <td>500</td>\n",
              "      <td>0.006</td>\n",
              "      <td>True</td>\n",
              "      <td>True</td>\n",
              "    </tr>\n",
              "    <tr>\n",
              "      <th>17</th>\n",
              "      <td>3</td>\n",
              "      <td>500</td>\n",
              "      <td>0.006</td>\n",
              "      <td>True</td>\n",
              "      <td>True</td>\n",
              "    </tr>\n",
              "    <tr>\n",
              "      <th>18</th>\n",
              "      <td>12</td>\n",
              "      <td>500</td>\n",
              "      <td>0.024</td>\n",
              "      <td>True</td>\n",
              "      <td>True</td>\n",
              "    </tr>\n",
              "    <tr>\n",
              "      <th>19</th>\n",
              "      <td>4</td>\n",
              "      <td>500</td>\n",
              "      <td>0.008</td>\n",
              "      <td>True</td>\n",
              "      <td>True</td>\n",
              "    </tr>\n",
              "    <tr>\n",
              "      <th>21</th>\n",
              "      <td>9</td>\n",
              "      <td>500</td>\n",
              "      <td>0.018</td>\n",
              "      <td>True</td>\n",
              "      <td>True</td>\n",
              "    </tr>\n",
              "    <tr>\n",
              "      <th>22</th>\n",
              "      <td>2</td>\n",
              "      <td>500</td>\n",
              "      <td>0.004</td>\n",
              "      <td>True</td>\n",
              "      <td>True</td>\n",
              "    </tr>\n",
              "    <tr>\n",
              "      <th>24</th>\n",
              "      <td>8</td>\n",
              "      <td>500</td>\n",
              "      <td>0.016</td>\n",
              "      <td>True</td>\n",
              "      <td>True</td>\n",
              "    </tr>\n",
              "    <tr>\n",
              "      <th>25</th>\n",
              "      <td>9</td>\n",
              "      <td>500</td>\n",
              "      <td>0.018</td>\n",
              "      <td>True</td>\n",
              "      <td>True</td>\n",
              "    </tr>\n",
              "    <tr>\n",
              "      <th>26</th>\n",
              "      <td>2</td>\n",
              "      <td>500</td>\n",
              "      <td>0.004</td>\n",
              "      <td>True</td>\n",
              "      <td>True</td>\n",
              "    </tr>\n",
              "    <tr>\n",
              "      <th>27</th>\n",
              "      <td>1</td>\n",
              "      <td>500</td>\n",
              "      <td>0.002</td>\n",
              "      <td>True</td>\n",
              "      <td>True</td>\n",
              "    </tr>\n",
              "    <tr>\n",
              "      <th>28</th>\n",
              "      <td>6</td>\n",
              "      <td>500</td>\n",
              "      <td>0.012</td>\n",
              "      <td>True</td>\n",
              "      <td>True</td>\n",
              "    </tr>\n",
              "    <tr>\n",
              "      <th>29</th>\n",
              "      <td>5</td>\n",
              "      <td>500</td>\n",
              "      <td>0.010</td>\n",
              "      <td>True</td>\n",
              "      <td>True</td>\n",
              "    </tr>\n",
              "  </tbody>\n",
              "</table>\n",
              "</div>\n",
              "      <button class=\"colab-df-convert\" onclick=\"convertToInteractive('df-3bd97ad2-0506-4598-b45e-69762e51cfd8')\"\n",
              "              title=\"Convert this dataframe to an interactive table.\"\n",
              "              style=\"display:none;\">\n",
              "        \n",
              "  <svg xmlns=\"http://www.w3.org/2000/svg\" height=\"24px\"viewBox=\"0 0 24 24\"\n",
              "       width=\"24px\">\n",
              "    <path d=\"M0 0h24v24H0V0z\" fill=\"none\"/>\n",
              "    <path d=\"M18.56 5.44l.94 2.06.94-2.06 2.06-.94-2.06-.94-.94-2.06-.94 2.06-2.06.94zm-11 1L8.5 8.5l.94-2.06 2.06-.94-2.06-.94L8.5 2.5l-.94 2.06-2.06.94zm10 10l.94 2.06.94-2.06 2.06-.94-2.06-.94-.94-2.06-.94 2.06-2.06.94z\"/><path d=\"M17.41 7.96l-1.37-1.37c-.4-.4-.92-.59-1.43-.59-.52 0-1.04.2-1.43.59L10.3 9.45l-7.72 7.72c-.78.78-.78 2.05 0 2.83L4 21.41c.39.39.9.59 1.41.59.51 0 1.02-.2 1.41-.59l7.78-7.78 2.81-2.81c.8-.78.8-2.07 0-2.86zM5.41 20L4 18.59l7.72-7.72 1.47 1.35L5.41 20z\"/>\n",
              "  </svg>\n",
              "      </button>\n",
              "      \n",
              "  <style>\n",
              "    .colab-df-container {\n",
              "      display:flex;\n",
              "      flex-wrap:wrap;\n",
              "      gap: 12px;\n",
              "    }\n",
              "\n",
              "    .colab-df-convert {\n",
              "      background-color: #E8F0FE;\n",
              "      border: none;\n",
              "      border-radius: 50%;\n",
              "      cursor: pointer;\n",
              "      display: none;\n",
              "      fill: #1967D2;\n",
              "      height: 32px;\n",
              "      padding: 0 0 0 0;\n",
              "      width: 32px;\n",
              "    }\n",
              "\n",
              "    .colab-df-convert:hover {\n",
              "      background-color: #E2EBFA;\n",
              "      box-shadow: 0px 1px 2px rgba(60, 64, 67, 0.3), 0px 1px 3px 1px rgba(60, 64, 67, 0.15);\n",
              "      fill: #174EA6;\n",
              "    }\n",
              "\n",
              "    [theme=dark] .colab-df-convert {\n",
              "      background-color: #3B4455;\n",
              "      fill: #D2E3FC;\n",
              "    }\n",
              "\n",
              "    [theme=dark] .colab-df-convert:hover {\n",
              "      background-color: #434B5C;\n",
              "      box-shadow: 0px 1px 3px 1px rgba(0, 0, 0, 0.15);\n",
              "      filter: drop-shadow(0px 1px 2px rgba(0, 0, 0, 0.3));\n",
              "      fill: #FFFFFF;\n",
              "    }\n",
              "  </style>\n",
              "\n",
              "      <script>\n",
              "        const buttonEl =\n",
              "          document.querySelector('#df-3bd97ad2-0506-4598-b45e-69762e51cfd8 button.colab-df-convert');\n",
              "        buttonEl.style.display =\n",
              "          google.colab.kernel.accessAllowed ? 'block' : 'none';\n",
              "\n",
              "        async function convertToInteractive(key) {\n",
              "          const element = document.querySelector('#df-3bd97ad2-0506-4598-b45e-69762e51cfd8');\n",
              "          const dataTable =\n",
              "            await google.colab.kernel.invokeFunction('convertToInteractive',\n",
              "                                                     [key], {});\n",
              "          if (!dataTable) return;\n",
              "\n",
              "          const docLinkHtml = 'Like what you see? Visit the ' +\n",
              "            '<a target=\"_blank\" href=https://colab.research.google.com/notebooks/data_table.ipynb>data table notebook</a>'\n",
              "            + ' to learn more about interactive tables.';\n",
              "          element.innerHTML = '';\n",
              "          dataTable['output_type'] = 'display_data';\n",
              "          await google.colab.output.renderOutput(dataTable, element);\n",
              "          const docLink = document.createElement('div');\n",
              "          docLink.innerHTML = docLinkHtml;\n",
              "          element.appendChild(docLink);\n",
              "        }\n",
              "      </script>\n",
              "    </div>\n",
              "  </div>\n",
              "  "
            ]
          },
          "metadata": {},
          "execution_count": 107
        }
      ]
    },
    {
      "cell_type": "code",
      "source": [
        "# Control Limit을 넘어가는 [20, 23] 인덱스를 제외하고 p chart plotting\n",
        "# 모든 Phase I sample이 Control Limit 내에 위치함을 확인\n",
        "\n",
        "plt.figure(figsize = (10,4))\n",
        "plt.plot(p_train2['nonconforming'], marker='o', color='r', markersize=3, linewidth=0.5)\n",
        "plt.scatter(p_train2['s1'][p_train2['s1'] == 0].index, \n",
        "            p_train2['nonconforming'][p_train2['s1'][p_train2['s1'] == 0].index], \n",
        "            s=80, facecolors='none', edgecolors='r')\n",
        "\n",
        "plt.axhline(UCL, color='r', label=f'Revised UCL = {UCL:.4f}', linestyle='--')\n",
        "plt.axhline(LCL, color='b', label=f'Revised LCL = {LCL:.4f}', linestyle='--')\n",
        "plt.legend()\n",
        "plt.title(f'NP Chart')\n",
        "plt.xlabel('Nonconforming')\n",
        "plt.show()"
      ],
      "metadata": {
        "colab": {
          "base_uri": "https://localhost:8080/",
          "height": 295
        },
        "id": "JY8YZ_nBRE7r",
        "outputId": "bf677232-f4d8-409c-8fe5-c24440b253a4"
      },
      "execution_count": 108,
      "outputs": [
        {
          "output_type": "display_data",
          "data": {
            "text/plain": [
              "<Figure size 720x288 with 1 Axes>"
            ],
            "image/png": "[encoded data removed]"
          },
          "metadata": {}
        }
      ]
    },
    {
      "cell_type": "markdown",
      "source": [
        "> Phase II"
      ],
      "metadata": {
        "id": "8l0GtD_HWz8V"
      }
    },
    {
      "cell_type": "code",
      "source": [
        "p_test.head()"
      ],
      "metadata": {
        "colab": {
          "base_uri": "https://localhost:8080/",
          "height": 206
        },
        "id": "EDSEwOPbWiyd",
        "outputId": "7260fe9a-2e01-42e7-8e33-31c5a39da17f"
      },
      "execution_count": 109,
      "outputs": [
        {
          "output_type": "execute_result",
          "data": {
            "text/plain": [
              "   nonconforming  sample_size      p\n",
              "0              2          500  0.004\n",
              "1              6          500  0.012\n",
              "2              5          500  0.010\n",
              "3              8          500  0.016\n",
              "4              7          500  0.014"
            ],
            "text/html": [
              "\n",
              "  <div id=\"df-989bfa95-31e4-4182-93bc-4cdc69af6da2\">\n",
              "    <div class=\"colab-df-container\">\n",
              "      <div>\n",
              "<style scoped>\n",
              "    .dataframe tbody tr th:only-of-type {\n",
              "        vertical-align: middle;\n",
              "    }\n",
              "\n",
              "    .dataframe tbody tr th {\n",
              "        vertical-align: top;\n",
              "    }\n",
              "\n",
              "    .dataframe thead th {\n",
              "        text-align: right;\n",
              "    }\n",
              "</style>\n",
              "<table border=\"1\" class=\"dataframe\">\n",
              "  <thead>\n",
              "    <tr style=\"text-align: right;\">\n",
              "      <th></th>\n",
              "      <th>nonconforming</th>\n",
              "      <th>sample_size</th>\n",
              "      <th>p</th>\n",
              "    </tr>\n",
              "  </thead>\n",
              "  <tbody>\n",
              "    <tr>\n",
              "      <th>0</th>\n",
              "      <td>2</td>\n",
              "      <td>500</td>\n",
              "      <td>0.004</td>\n",
              "    </tr>\n",
              "    <tr>\n",
              "      <th>1</th>\n",
              "      <td>6</td>\n",
              "      <td>500</td>\n",
              "      <td>0.012</td>\n",
              "    </tr>\n",
              "    <tr>\n",
              "      <th>2</th>\n",
              "      <td>5</td>\n",
              "      <td>500</td>\n",
              "      <td>0.010</td>\n",
              "    </tr>\n",
              "    <tr>\n",
              "      <th>3</th>\n",
              "      <td>8</td>\n",
              "      <td>500</td>\n",
              "      <td>0.016</td>\n",
              "    </tr>\n",
              "    <tr>\n",
              "      <th>4</th>\n",
              "      <td>7</td>\n",
              "      <td>500</td>\n",
              "      <td>0.014</td>\n",
              "    </tr>\n",
              "  </tbody>\n",
              "</table>\n",
              "</div>\n",
              "      <button class=\"colab-df-convert\" onclick=\"convertToInteractive('df-989bfa95-31e4-4182-93bc-4cdc69af6da2')\"\n",
              "              title=\"Convert this dataframe to an interactive table.\"\n",
              "              style=\"display:none;\">\n",
              "        \n",
              "  <svg xmlns=\"http://www.w3.org/2000/svg\" height=\"24px\"viewBox=\"0 0 24 24\"\n",
              "       width=\"24px\">\n",
              "    <path d=\"M0 0h24v24H0V0z\" fill=\"none\"/>\n",
              "    <path d=\"M18.56 5.44l.94 2.06.94-2.06 2.06-.94-2.06-.94-.94-2.06-.94 2.06-2.06.94zm-11 1L8.5 8.5l.94-2.06 2.06-.94-2.06-.94L8.5 2.5l-.94 2.06-2.06.94zm10 10l.94 2.06.94-2.06 2.06-.94-2.06-.94-.94-2.06-.94 2.06-2.06.94z\"/><path d=\"M17.41 7.96l-1.37-1.37c-.4-.4-.92-.59-1.43-.59-.52 0-1.04.2-1.43.59L10.3 9.45l-7.72 7.72c-.78.78-.78 2.05 0 2.83L4 21.41c.39.39.9.59 1.41.59.51 0 1.02-.2 1.41-.59l7.78-7.78 2.81-2.81c.8-.78.8-2.07 0-2.86zM5.41 20L4 18.59l7.72-7.72 1.47 1.35L5.41 20z\"/>\n",
              "  </svg>\n",
              "      </button>\n",
              "      \n",
              "  <style>\n",
              "    .colab-df-container {\n",
              "      display:flex;\n",
              "      flex-wrap:wrap;\n",
              "      gap: 12px;\n",
              "    }\n",
              "\n",
              "    .colab-df-convert {\n",
              "      background-color: #E8F0FE;\n",
              "      border: none;\n",
              "      border-radius: 50%;\n",
              "      cursor: pointer;\n",
              "      display: none;\n",
              "      fill: #1967D2;\n",
              "      height: 32px;\n",
              "      padding: 0 0 0 0;\n",
              "      width: 32px;\n",
              "    }\n",
              "\n",
              "    .colab-df-convert:hover {\n",
              "      background-color: #E2EBFA;\n",
              "      box-shadow: 0px 1px 2px rgba(60, 64, 67, 0.3), 0px 1px 3px 1px rgba(60, 64, 67, 0.15);\n",
              "      fill: #174EA6;\n",
              "    }\n",
              "\n",
              "    [theme=dark] .colab-df-convert {\n",
              "      background-color: #3B4455;\n",
              "      fill: #D2E3FC;\n",
              "    }\n",
              "\n",
              "    [theme=dark] .colab-df-convert:hover {\n",
              "      background-color: #434B5C;\n",
              "      box-shadow: 0px 1px 3px 1px rgba(0, 0, 0, 0.15);\n",
              "      filter: drop-shadow(0px 1px 2px rgba(0, 0, 0, 0.3));\n",
              "      fill: #FFFFFF;\n",
              "    }\n",
              "  </style>\n",
              "\n",
              "      <script>\n",
              "        const buttonEl =\n",
              "          document.querySelector('#df-989bfa95-31e4-4182-93bc-4cdc69af6da2 button.colab-df-convert');\n",
              "        buttonEl.style.display =\n",
              "          google.colab.kernel.accessAllowed ? 'block' : 'none';\n",
              "\n",
              "        async function convertToInteractive(key) {\n",
              "          const element = document.querySelector('#df-989bfa95-31e4-4182-93bc-4cdc69af6da2');\n",
              "          const dataTable =\n",
              "            await google.colab.kernel.invokeFunction('convertToInteractive',\n",
              "                                                     [key], {});\n",
              "          if (!dataTable) return;\n",
              "\n",
              "          const docLinkHtml = 'Like what you see? Visit the ' +\n",
              "            '<a target=\"_blank\" href=https://colab.research.google.com/notebooks/data_table.ipynb>data table notebook</a>'\n",
              "            + ' to learn more about interactive tables.';\n",
              "          element.innerHTML = '';\n",
              "          dataTable['output_type'] = 'display_data';\n",
              "          await google.colab.output.renderOutput(dataTable, element);\n",
              "          const docLink = document.createElement('div');\n",
              "          docLink.innerHTML = docLinkHtml;\n",
              "          element.appendChild(docLink);\n",
              "        }\n",
              "      </script>\n",
              "    </div>\n",
              "  </div>\n",
              "  "
            ]
          },
          "metadata": {},
          "execution_count": 109
        }
      ]
    },
    {
      "cell_type": "code",
      "source": [
        "p_test['detected'] = (p_test['nonconforming']>LCL) & (p_test['nonconforming']<UCL)\n",
        "print('Revised Control Limit을 벗어나는 샘플 인덱스: {}'.format(list(p_test['detected'][p_test['detected'] == 0].index)))"
      ],
      "metadata": {
        "colab": {
          "base_uri": "https://localhost:8080/"
        },
        "id": "hegM3N4lWi0c",
        "outputId": "1d4dc648-3993-4a18-e288-b8914e7ad39a"
      },
      "execution_count": 110,
      "outputs": [
        {
          "output_type": "stream",
          "name": "stdout",
          "text": [
            "Revised Control Limit을 벗어나는 샘플 인덱스: [9]\n"
          ]
        }
      ]
    },
    {
      "cell_type": "code",
      "source": [
        "# Test data에 대해 p chart plotting\n",
        "\n",
        "plt.figure(figsize = (10,4))\n",
        "plt.plot(p_train2['nonconforming'], marker='o', color='grey', markersize=3, linewidth=0.5)\n",
        "plt.plot(p_test.index+30, p_test['nonconforming'], marker='o', color='red', markersize=3, linewidth=1.0)\n",
        "plt.scatter(p_train2['s2'][p_train2['s2'] == 0].index, \n",
        "            p_train2['nonconforming'][p_train2['s2'][p_train2['s2'] == 0].index], \n",
        "            s=80, facecolors='none', edgecolors='grey')\n",
        "plt.scatter(p_test['detected'][p_test['detected'] == 0].index+30, \n",
        "            p_test['nonconforming'][p_test['detected'][p_test['detected'] == 0].index], \n",
        "            s=80, facecolors='none', edgecolors='red')\n",
        "\n",
        "plt.axhline(UCL, color='r', label=f'Revised UCL = {UCL:.4f}', linestyle='--')\n",
        "plt.axhline(LCL, color='b', label=f'Revised LCL = {LCL:.4f}', linestyle='--')\n",
        "plt.axvline(29.5, color='green', linestyle=':')\n",
        "plt.legend()\n",
        "plt.title(f'P Chart')\n",
        "plt.xlabel('Nonconforming')\n",
        "plt.show()"
      ],
      "metadata": {
        "colab": {
          "base_uri": "https://localhost:8080/",
          "height": 295
        },
        "id": "EE-s44rsWi2U",
        "outputId": "6222d1e1-66a3-4231-8a9d-b5be5c3dfc66"
      },
      "execution_count": 111,
      "outputs": [
        {
          "output_type": "display_data",
          "data": {
            "text/plain": [
              "<Figure size 720x288 with 1 Axes>"
            ],
            "image/png": "[encoded data removed]"
          },
          "metadata": {}
        }
      ]
    },
    {
      "cell_type": "code",
      "source": [
        ""
      ],
      "metadata": {
        "id": "ogvEP0FeRE9S"
      },
      "execution_count": null,
      "outputs": []
    }
  ]
}