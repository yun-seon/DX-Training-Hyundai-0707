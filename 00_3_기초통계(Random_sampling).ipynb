{
  "nbformat": 4,
  "nbformat_minor": 0,
  "metadata": {
    "colab": {
      "name": "00-3-기초통계(Random sampling).ipynb",
      "provenance": [],
      "collapsed_sections": []
    },
    "kernelspec": {
      "name": "python3",
      "display_name": "Python 3"
    },
    "language_info": {
      "name": "python"
    },
    "gpuClass": "standard"
  },
  "cells": [
    {
      "cell_type": "code",
      "execution_count": null,
      "metadata": {
        "id": "dJ0awovFJp9V"
      },
      "outputs": [],
      "source": [
        "# 필요한 package 불러오기\n",
        "\n",
        "import numpy as np\n",
        "import matplotlib.pyplot as plt"
      ]
    },
    {
      "cell_type": "markdown",
      "source": [
        "> 정규분포 데이터 다양하게 Sampling 하기"
      ],
      "metadata": {
        "id": "q72v8r88JyUM"
      }
    },
    {
      "cell_type": "code",
      "source": [
        "# 5개의 정규분포 데이터 생성\n",
        "np.random.seed(seed=100)\n",
        "np.random.normal(size=5)"
      ],
      "metadata": {
        "colab": {
          "base_uri": "https://localhost:8080/"
        },
        "id": "Wk4ZN5ViJs-4",
        "outputId": "be7b7a01-e345-4226-8c4a-8d5dd4b73f95"
      },
      "execution_count": null,
      "outputs": [
        {
          "output_type": "execute_result",
          "data": {
            "text/plain": [
              "array([-1.74976547,  0.3426804 ,  1.1530358 , -0.25243604,  0.98132079])"
            ]
          },
          "metadata": {},
          "execution_count": 3
        }
      ]
    },
    {
      "cell_type": "code",
      "source": [
        "# (5, 3) array에 대한 정규분포 데이터 생성\n",
        "np.random.normal(size=(5, 3))"
      ],
      "metadata": {
        "colab": {
          "base_uri": "https://localhost:8080/"
        },
        "id": "Z8r0AwFDJtAn",
        "outputId": "687c4480-651a-460d-f492-5dc5263ee283"
      },
      "execution_count": null,
      "outputs": [
        {
          "output_type": "execute_result",
          "data": {
            "text/plain": [
              "array([[ 0.51421884,  0.22117967, -1.07004333],\n",
              "       [-0.18949583,  0.25500144, -0.45802699],\n",
              "       [ 0.43516349, -0.58359505,  0.81684707],\n",
              "       [ 0.67272081, -0.10441114, -0.53128038],\n",
              "       [ 1.02973269, -0.43813562, -1.11831825]])"
            ]
          },
          "metadata": {},
          "execution_count": 4
        }
      ]
    },
    {
      "cell_type": "code",
      "source": [
        "# (5, 3, 2) array에 대한 정규분포 데이터 생성\n",
        "np.random.normal(size=(5, 3, 2))"
      ],
      "metadata": {
        "colab": {
          "base_uri": "https://localhost:8080/"
        },
        "id": "mQl5JCWJJtDs",
        "outputId": "ce8533aa-95ae-4d17-c7dd-b5fbec47092c"
      },
      "execution_count": null,
      "outputs": [
        {
          "output_type": "execute_result",
          "data": {
            "text/plain": [
              "array([[[ 1.61898166,  1.54160517],\n",
              "        [-0.25187914, -0.84243574],\n",
              "        [ 0.18451869,  0.9370822 ]],\n",
              "\n",
              "       [[ 0.73100034,  1.36155613],\n",
              "        [-0.32623806,  0.05567601],\n",
              "        [ 0.22239961, -1.443217  ]],\n",
              "\n",
              "       [[-0.75635231,  0.81645401],\n",
              "        [ 0.75044476, -0.45594693],\n",
              "        [ 1.18962227, -1.69061683]],\n",
              "\n",
              "       [[-1.35639905, -1.23243451],\n",
              "        [-0.54443916, -0.66817174],\n",
              "        [ 0.00731456, -0.61293874]],\n",
              "\n",
              "       [[ 1.29974807, -1.73309562],\n",
              "        [-0.9833101 ,  0.35750775],\n",
              "        [-1.6135785 ,  1.47071387]]])"
            ]
          },
          "metadata": {},
          "execution_count": 5
        }
      ]
    },
    {
      "cell_type": "markdown",
      "source": [
        "> 이항분포 데이터 Random Sampling"
      ],
      "metadata": {
        "id": "jLfsrkO2KfUY"
      }
    },
    {
      "cell_type": "code",
      "source": [
        "# (1) 이산형 확률 분포 (Discrete Probability Distribution)\n",
        "# (1-1) 이항분포 (Binomial Distribution) : np.random.binomial(n, p, size)\n",
        "#       : 복원 추출 (sampling with replacement)\n",
        "#       : n an integer >= 0 and p is in the interval [0,1]\n",
        "\n",
        "rand_bino = np.random.binomial(n=1, p=0.6, size=20)\n",
        "rand_bino"
      ],
      "metadata": {
        "colab": {
          "base_uri": "https://localhost:8080/"
        },
        "id": "w2wrFBmMJtFT",
        "outputId": "4f4a3179-0898-4291-f3d0-c5f3de11bd39"
      },
      "execution_count": null,
      "outputs": [
        {
          "output_type": "execute_result",
          "data": {
            "text/plain": [
              "array([1, 1, 1, 0, 0, 1, 1, 0, 1, 0, 0, 1, 1, 1, 1, 1, 1, 1, 0, 0])"
            ]
          },
          "metadata": {},
          "execution_count": 11
        }
      ]
    },
    {
      "cell_type": "code",
      "source": [
        "sum(np.random.binomial(n=1, p=0.6, size=100) == 1)/100  # 확률 p 값에 근사"
      ],
      "metadata": {
        "colab": {
          "base_uri": "https://localhost:8080/"
        },
        "id": "S0ivFdVTJtG7",
        "outputId": "3cd5d944-681e-4bec-d7a8-f80fa4398d3f"
      },
      "execution_count": null,
      "outputs": [
        {
          "output_type": "execute_result",
          "data": {
            "text/plain": [
              "0.63"
            ]
          },
          "metadata": {},
          "execution_count": 12
        }
      ]
    },
    {
      "cell_type": "code",
      "source": [
        "# result table of 100 simulation\n",
        "unique, counts = np.unique(rand_bino, return_counts=True)\n",
        "np.asarray((unique, counts)).T"
      ],
      "metadata": {
        "colab": {
          "base_uri": "https://localhost:8080/"
        },
        "id": "8AD1-AhyJtIs",
        "outputId": "77d2491e-de2c-4d09-edd8-c9d7c469990c"
      },
      "execution_count": null,
      "outputs": [
        {
          "output_type": "execute_result",
          "data": {
            "text/plain": [
              "array([[ 0,  7],\n",
              "       [ 1, 13]])"
            ]
          },
          "metadata": {},
          "execution_count": 13
        }
      ]
    },
    {
      "cell_type": "markdown",
      "source": [
        "> 초기하분포 데이터 Random Sampling"
      ],
      "metadata": {
        "id": "pPB1rlH4LDPX"
      }
    },
    {
      "cell_type": "code",
      "source": [
        "# (1-2) 초기하분포 (Hypergeometric distribution)\n",
        "#       : 비복원 추출(sampling without replacement)\n",
        "#       : np.random.hypergeometric(ngood, nbad, nsample, size=None)\n",
        "\n",
        "# 100개의 초기하분포 데이터 Sampling\n",
        "np.random.seed(seed=100)\n",
        "rand_hyp = np.random.hypergeometric(ngood=5, nbad=20, nsample=5, size=100)\n",
        "rand_hyp"
      ],
      "metadata": {
        "colab": {
          "base_uri": "https://localhost:8080/"
        },
        "id": "ENZuDdQqJtKL",
        "outputId": "52decff8-f413-4a92-856b-ab4827ef922d"
      },
      "execution_count": null,
      "outputs": [
        {
          "output_type": "execute_result",
          "data": {
            "text/plain": [
              "array([1, 1, 1, 1, 1, 1, 0, 3, 0, 1, 2, 0, 1, 1, 2, 0, 1, 1, 0, 0, 0, 3,\n",
              "       2, 0, 0, 0, 1, 3, 1, 1, 0, 0, 1, 0, 1, 2, 1, 1, 2, 1, 2, 1, 1, 1,\n",
              "       1, 2, 1, 0, 1, 1, 2, 1, 2, 1, 2, 0, 1, 2, 1, 1, 0, 1, 0, 1, 0, 1,\n",
              "       1, 2, 0, 2, 0, 1, 2, 1, 1, 0, 1, 0, 0, 0, 1, 1, 1, 1, 2, 1, 1, 0,\n",
              "       0, 2, 1, 1, 1, 1, 1, 1, 1, 3, 1, 0])"
            ]
          },
          "metadata": {},
          "execution_count": 14
        }
      ]
    },
    {
      "cell_type": "code",
      "source": [
        "# result table of 100 simulation\n",
        "unique, counts = np.unique(rand_hyp, return_counts=True)\n",
        "np.asarray((unique, counts)).T"
      ],
      "metadata": {
        "colab": {
          "base_uri": "https://localhost:8080/"
        },
        "id": "CSo26NqUJtL8",
        "outputId": "08f27542-eb36-4361-d444-9a7ac8f063f8"
      },
      "execution_count": null,
      "outputs": [
        {
          "output_type": "execute_result",
          "data": {
            "text/plain": [
              "array([[ 0, 27],\n",
              "       [ 1, 53],\n",
              "       [ 2, 16],\n",
              "       [ 3,  4]])"
            ]
          },
          "metadata": {},
          "execution_count": 15
        }
      ]
    },
    {
      "cell_type": "code",
      "source": [
        "# simulation result 시각화\n",
        "plt.bar(unique, counts, width=0.5, color=\"blue\", align='center')\n",
        "plt.show()"
      ],
      "metadata": {
        "colab": {
          "base_uri": "https://localhost:8080/",
          "height": 265
        },
        "id": "7fT7RfqeJtNr",
        "outputId": "1f8dc195-54f4-4c2a-8960-84446a59a7d5"
      },
      "execution_count": null,
      "outputs": [
        {
          "output_type": "display_data",
          "data": {
            "text/plain": [
              "<Figure size 432x288 with 1 Axes>"
            ],
            "image/png": "[encoded data removed]"
          },
          "metadata": {
            "needs_background": "light"
          }
        }
      ]
    },
    {
      "cell_type": "markdown",
      "source": [
        "> 포아송분포 데이터 Random Sampling"
      ],
      "metadata": {
        "id": "jSoEqtt0LUwX"
      }
    },
    {
      "cell_type": "code",
      "source": [
        "# 20개의 포아송분포 데이터 생성\n",
        "\n",
        "np.random.seed(seed=100)\n",
        "rand_pois = np.random.poisson(lam=20, size=100)\n",
        "rand_pois"
      ],
      "metadata": {
        "colab": {
          "base_uri": "https://localhost:8080/"
        },
        "id": "vZaDIcmLLTj3",
        "outputId": "8e2c5378-216e-46c1-d5ef-d5af83359d35"
      },
      "execution_count": null,
      "outputs": [
        {
          "output_type": "execute_result",
          "data": {
            "text/plain": [
              "array([21, 19, 22, 14, 26, 15, 25, 25, 19, 25, 15, 24, 21, 13, 26, 23, 21,\n",
              "       16, 24, 17, 18, 18, 15, 18, 22, 28, 21, 18, 17, 31, 23, 13, 20, 19,\n",
              "       24, 17, 20, 13, 19, 16, 16, 21, 16, 21, 19, 20, 20, 19, 19, 20, 13,\n",
              "       29,  9, 13, 20, 29, 15, 15, 21, 20, 21, 18, 16, 20, 23, 18, 22, 14,\n",
              "       19, 20, 18, 17, 20, 24, 20, 15, 19, 19, 25, 17, 19, 27, 20, 17, 12,\n",
              "       22, 16, 23, 17, 11, 15, 19, 16, 21, 21, 25, 26, 23, 15, 25])"
            ]
          },
          "metadata": {},
          "execution_count": 20
        }
      ]
    },
    {
      "cell_type": "code",
      "source": [
        "# result table of 100 simulation\n",
        "unique, counts = np.unique(rand_pois, return_counts=True)\n",
        "np.asarray((unique, counts)).T"
      ],
      "metadata": {
        "colab": {
          "base_uri": "https://localhost:8080/"
        },
        "id": "TuxN5u8PLTlv",
        "outputId": "eb09d607-b9db-4bec-ade8-3237a2ca6db4"
      },
      "execution_count": null,
      "outputs": [
        {
          "output_type": "execute_result",
          "data": {
            "text/plain": [
              "array([[ 9,  1],\n",
              "       [11,  1],\n",
              "       [12,  1],\n",
              "       [13,  5],\n",
              "       [14,  2],\n",
              "       [15,  8],\n",
              "       [16,  7],\n",
              "       [17,  7],\n",
              "       [18,  7],\n",
              "       [19, 12],\n",
              "       [20, 12],\n",
              "       [21, 10],\n",
              "       [22,  4],\n",
              "       [23,  5],\n",
              "       [24,  4],\n",
              "       [25,  6],\n",
              "       [26,  3],\n",
              "       [27,  1],\n",
              "       [28,  1],\n",
              "       [29,  2],\n",
              "       [31,  1]])"
            ]
          },
          "metadata": {},
          "execution_count": 21
        }
      ]
    },
    {
      "cell_type": "code",
      "source": [
        "# simulation result 시각화\n",
        "plt.bar(unique, counts, width=0.5, color=\"red\", align='center')"
      ],
      "metadata": {
        "colab": {
          "base_uri": "https://localhost:8080/",
          "height": 283
        },
        "id": "2A7Qw_F3LTnO",
        "outputId": "4a2ca434-1358-4a97-d26e-2bfcaebd3502"
      },
      "execution_count": null,
      "outputs": [
        {
          "output_type": "execute_result",
          "data": {
            "text/plain": [
              "<BarContainer object of 21 artists>"
            ]
          },
          "metadata": {},
          "execution_count": 22
        },
        {
          "output_type": "display_data",
          "data": {
            "text/plain": [
              "<Figure size 432x288 with 1 Axes>"
            ],
            "image/png": "[encoded data removed]"
          },
          "metadata": {
            "needs_background": "light"
          }
        }
      ]
    },
    {
      "cell_type": "code",
      "source": [
        ""
      ],
      "metadata": {
        "id": "oaGzal0ELTpE"
      },
      "execution_count": null,
      "outputs": []
    },
    {
      "cell_type": "code",
      "source": [
        ""
      ],
      "metadata": {
        "id": "lJ95XdBPLHqO"
      },
      "execution_count": null,
      "outputs": []
    }
  ]
}